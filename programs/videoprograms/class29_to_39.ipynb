{
 "cells": [
  {
   "cell_type": "code",
   "execution_count": 7,
   "metadata": {},
   "outputs": [
    {
     "name": "stdout",
     "output_type": "stream",
     "text": [
      "4\n"
     ]
    }
   ],
   "source": [
    "import array as ar\n",
    "arr=ar.array(\"i\",[1,2,3,4,5])\n",
    "print(arr[3])"
   ]
  },
  {
   "cell_type": "code",
   "execution_count": 3,
   "metadata": {},
   "outputs": [
    {
     "data": {
      "text/plain": [
       "array([[1, 2, 3],\n",
       "       [4, 5, 6]])"
      ]
     },
     "execution_count": 3,
     "metadata": {},
     "output_type": "execute_result"
    }
   ],
   "source": [
    "#1D Array--It has one row and multiple columns\n",
    "\n",
    "#2D Array--It has Multiple rows and multiple columns\n",
    "\n",
    "#We can not access diectly 2D[Multidimensional array] so we use third party package that is numpy\n",
    "\n",
    "#For using numpy we have install numpy by using \"pip install numpy\"\n",
    "\n",
    "from numpy import *\n",
    "arr=array([[1,2,3],[4,5,6]])\n",
    "arr"
   ]
  },
  {
   "cell_type": "code",
   "execution_count": 10,
   "metadata": {},
   "outputs": [
    {
     "name": "stdout",
     "output_type": "stream",
     "text": [
      "[1. 2. 3. 4. 5.]\n",
      "float64\n",
      "[1. 2. 3. 4. 5.]\n"
     ]
    }
   ],
   "source": [
    "#we have 6 ways to create an array those are[array()],[linspace()],[logspace()],[arange()],[zeros()],[ones()]\n",
    "\n",
    "#array()\n",
    "from numpy import *\n",
    "arr=array([1,2,3,4,5],float)\n",
    "print(arr)\n",
    "\n",
    "#converting int into float\n",
    "arr=array([1,2,3,4,5],float)\n",
    "print(arr.dtype)\n",
    "print(arr)"
   ]
  },
  {
   "cell_type": "code",
   "execution_count": 27,
   "metadata": {},
   "outputs": [
    {
     "name": "stdout",
     "output_type": "stream",
     "text": [
      "[1. 5. 9.]\n"
     ]
    }
   ],
   "source": [
    "#linspace()\n",
    "from numpy import *\n",
    "arr=linspace(1,9,3) #nuber start with one end with 9 then 1 to 9 digits are  equaly divided by 3 \n",
    "print(arr)"
   ]
  },
  {
   "cell_type": "code",
   "execution_count": 22,
   "metadata": {},
   "outputs": [
    {
     "name": "stdout",
     "output_type": "stream",
     "text": [
      "[ 0  2  4  6  8 10 12 14 16 18]\n"
     ]
    }
   ],
   "source": [
    "#arange()\n",
    "arr=arange(0,20,2)\n",
    "print(arr)"
   ]
  },
  {
   "cell_type": "code",
   "execution_count": 13,
   "metadata": {},
   "outputs": [
    {
     "name": "stdout",
     "output_type": "stream",
     "text": [
      "[1.00000000e+01 3.16227766e+20 1.00000000e+40]\n"
     ]
    }
   ],
   "source": [
    "#logspace() \n",
    "arr=logspace(1,40,3)\n",
    "print(arr)"
   ]
  },
  {
   "cell_type": "code",
   "execution_count": 30,
   "metadata": {},
   "outputs": [
    {
     "name": "stdout",
     "output_type": "stream",
     "text": [
      "[[0 0 0 0]\n",
      " [0 0 0 0]\n",
      " [0 0 0 0]\n",
      " [0 0 0 0]]\n"
     ]
    }
   ],
   "source": [
    "#zeros()\n",
    "arr=zeros([4,4],int)\n",
    "print(arr)"
   ]
  },
  {
   "cell_type": "code",
   "execution_count": 32,
   "metadata": {},
   "outputs": [
    {
     "name": "stdout",
     "output_type": "stream",
     "text": [
      "[[1. 1. 1. 1.]\n",
      " [1. 1. 1. 1.]\n",
      " [1. 1. 1. 1.]]\n"
     ]
    }
   ],
   "source": [
    "#ones()\n",
    "arr=ones([3,4],float)\n",
    "print(arr)"
   ]
  },
  {
   "cell_type": "code",
   "execution_count": 22,
   "metadata": {},
   "outputs": [
    {
     "name": "stdout",
     "output_type": "stream",
     "text": [
      "[ 6  7  8  9 10]\n",
      "[10  9  9  9 19]\n"
     ]
    }
   ],
   "source": [
    "#Adding two arrys it is also called as \"vectorized operation\"\n",
    "arr1=array([1,2,3,4,5])\n",
    "arr2=arr1+5\n",
    "print(arr2)\n",
    "\n",
    "arr3=array([8,5,3,1,9])\n",
    "arr4=array([2,4,6,8,10])\n",
    "arr5=arr3+arr4\n",
    "print(arr5)"
   ]
  },
  {
   "cell_type": "code",
   "execution_count": 33,
   "metadata": {},
   "outputs": [
    {
     "name": "stdout",
     "output_type": "stream",
     "text": [
      "[ 0.84147098 -0.49102159  0.41211849 -0.2794155  -0.75098725 -0.49102159]\n",
      "[ 0.54030231  0.8711474  -0.91113026  0.96017029  0.66031671  0.8711474 ]\n",
      "[0.         4.9698133  2.19722458 1.79175947 2.89037176 4.9698133 ]\n",
      "[ 1.         12.          3.          2.44948974  4.24264069 12.        ]\n",
      "1\n",
      "144\n",
      "[  1   6   9  18 144 144]\n",
      "[  1   6   9  18 144]\n",
      "[1 2 3 4 5 6 7 8]\n"
     ]
    }
   ],
   "source": [
    "arr=array([1,144,9,6,18,144])\n",
    "print(sin(arr))\n",
    "print(cos(arr))\n",
    "print(log(arr))\n",
    "print(sqrt(arr))\n",
    "print(min(arr))\n",
    "print(max(arr))\n",
    "print(sort(arr))\n",
    "print(unique(arr))\n",
    "\n",
    "\n",
    "#Concatinations of two arrays\n",
    "arr1=array([1,2,3,4])\n",
    "arr2=array([5,6,7,8])\n",
    "print(concatenate([arr1,arr2]))"
   ]
  },
  {
   "cell_type": "code",
   "execution_count": 35,
   "metadata": {},
   "outputs": [
    {
     "name": "stdout",
     "output_type": "stream",
     "text": [
      "[1 2 3 4 5]\n",
      "[1 2 3 4 5]\n",
      "2284334776656\n",
      "2284334776656\n",
      "[1 2 3 4 5]\n",
      "[1 2 3 4 5]\n"
     ]
    }
   ],
   "source": [
    "#copy an array\n",
    "arr1=array([1,2,3,4,5])\n",
    "arr2=arr1\n",
    "print(arr1)\n",
    "print(arr2)\n",
    "\n",
    "print(id(arr1))#here we are creating a new aliasing for the array\n",
    "print(id(arr2))\n",
    "\n",
    "\n",
    "arr1=array([1,2,3,4,5])\n",
    "arr2=arr1.view() #function which will help u to create new array of the different location\n",
    "print(arr1)\n",
    "print(arr2)\n"
   ]
  },
  {
   "cell_type": "code",
   "execution_count": 36,
   "metadata": {},
   "outputs": [
    {
     "name": "stdout",
     "output_type": "stream",
     "text": [
      "[1 7 3 4 5]\n",
      "[1 7 3 4 5]\n"
     ]
    }
   ],
   "source": [
    "#we have two different types of copy [Shallow Copy]  [Deep Copy]\n",
    "\n",
    "#Shallow Copy\n",
    "arr1=array([5,6,7,8,9])\n",
    "arr1=arr2.view()\n",
    "\n",
    "arr1[1]=7\n",
    "print(arr1)\n",
    "print(arr2)"
   ]
  },
  {
   "cell_type": "code",
   "execution_count": 37,
   "metadata": {},
   "outputs": [
    {
     "name": "stdout",
     "output_type": "stream",
     "text": [
      "[ 1  7 10  4  5]\n",
      "[1 7 3 4 5]\n"
     ]
    }
   ],
   "source": [
    "#Deepcopy\n",
    "arr1=array([5,6,7,8,9])\n",
    "arr1=arr2.copy()\n",
    "arr1[2]=10\n",
    "print(arr1)\n",
    "print(arr2)"
   ]
  },
  {
   "cell_type": "markdown",
   "metadata": {},
   "source": [
    "Working with matrix"
   ]
  },
  {
   "cell_type": "code",
   "execution_count": 35,
   "metadata": {},
   "outputs": [
    {
     "name": "stdout",
     "output_type": "stream",
     "text": [
      "int32\n",
      "2\n",
      "(2, 3)\n",
      "6\n",
      "[1 2 3 5 6 7]\n",
      "[[1 2]\n",
      " [4 5]]\n",
      "[[1 2 3 4]\n",
      " [5 6 3 2]\n",
      " [1 4 5 6]]\n",
      "[[[1 2 3]\n",
      "  [4 5 6]]\n",
      "\n",
      " [[3 2 1]\n",
      "  [4 5 6]]]\n"
     ]
    }
   ],
   "source": [
    "from numpy import *\n",
    "\n",
    "arr=array([\n",
    "    [1,2,3],\n",
    "    [4,5,6]\n",
    "])\n",
    "print(arr.dtype)\n",
    "print(arr.ndim)\n",
    "print(arr.shape)#it given rows and columns[in tuple]\n",
    "print(arr.size)\n",
    "\n",
    "\n",
    "\n",
    "#How to convert 2D array to 1D array\n",
    "arr1=array([[1,2,3],[5,6,7]])\n",
    "arr2=arr1.flatten()\n",
    "print(arr2)\n",
    "\n",
    "\n",
    "#converting single dimensional to multi dimensional\n",
    "arr1=array([1,2,4,5])\n",
    "arr3=arr1.reshape(2,2)\n",
    "print(arr3)\n",
    "\n",
    "arr1=array([[1,2,3,4,5,6],\n",
    "            [3,2,1,4,5,6]])\n",
    "print(arr1.reshape(3,4))\n",
    "print(arr1.reshape(2,2,3))"
   ]
  },
  {
   "cell_type": "code",
   "execution_count": 36,
   "metadata": {},
   "outputs": [
    {
     "name": "stdout",
     "output_type": "stream",
     "text": [
      "[[1 2 3]\n",
      " [4 5 6]\n",
      " [7 8 9]]\n",
      "[1 5 9]\n",
      "9\n",
      "1\n"
     ]
    }
   ],
   "source": [
    "from numpy import *\n",
    "\n",
    "m=matrix(\"1 2 3 ; 4 5 6 ; 7 8 9\")\n",
    "print(m)\n",
    "print(diagonal(m))\n",
    "print(m.max())\n",
    "print(m.min())\n"
   ]
  },
  {
   "cell_type": "code",
   "execution_count": 80,
   "metadata": {},
   "outputs": [
    {
     "name": "stdout",
     "output_type": "stream",
     "text": [
      "[[ 30  24  18]\n",
      " [ 84  69  54]\n",
      " [138 114  90]]\n"
     ]
    }
   ],
   "source": [
    "#Multipying Two Matrices\n",
    "m1=matrix('1 2 3 ; 4 5 6; 7 8 9')\n",
    "m2=matrix('9 8 7 ; 6 5 4 ; 3 2 1')\n",
    "m3=m1*m2\n",
    "print(m3)"
   ]
  },
  {
   "cell_type": "markdown",
   "metadata": {},
   "source": [
    "Functions"
   ]
  },
  {
   "cell_type": "code",
   "execution_count": 83,
   "metadata": {},
   "outputs": [
    {
     "name": "stdout",
     "output_type": "stream",
     "text": [
      "Hello\n",
      "Hii\n",
      "Hello\n",
      "Hii\n"
     ]
    }
   ],
   "source": [
    "def greet():\n",
    "    print(\"Hello\")\n",
    "    print(\"Hii\")\n",
    "\n",
    "greet()\n",
    "greet()"
   ]
  },
  {
   "cell_type": "code",
   "execution_count": 87,
   "metadata": {},
   "outputs": [
    {
     "name": "stdout",
     "output_type": "stream",
     "text": [
      "5\n"
     ]
    }
   ],
   "source": [
    "#Addition of two numbers\n",
    "def addition(a,b):\n",
    "    c=a+b\n",
    "    print(c) \n",
    "    \n",
    "\n",
    "addition(2,3)"
   ]
  },
  {
   "cell_type": "code",
   "execution_count": 90,
   "metadata": {},
   "outputs": [
    {
     "name": "stdout",
     "output_type": "stream",
     "text": [
      "12\n"
     ]
    }
   ],
   "source": [
    "def squareroot_fun(x):\n",
    "    return sqrt(x)\n",
    "\n",
    "x=int(input(\"enter the number\"))\n",
    "result=squareroot_fun(x)\n",
    "print(int(result))"
   ]
  }
 ],
 "metadata": {
  "kernelspec": {
   "display_name": "base",
   "language": "python",
   "name": "python3"
  },
  "language_info": {
   "codemirror_mode": {
    "name": "ipython",
    "version": 3
   },
   "file_extension": ".py",
   "mimetype": "text/x-python",
   "name": "python",
   "nbconvert_exporter": "python",
   "pygments_lexer": "ipython3",
   "version": "3.9.13"
  },
  "orig_nbformat": 4
 },
 "nbformat": 4,
 "nbformat_minor": 2
}
