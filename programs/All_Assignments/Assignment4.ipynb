{
 "cells": [
  {
   "cell_type": "code",
   "execution_count": 21,
   "metadata": {},
   "outputs": [
    {
     "name": "stdout",
     "output_type": "stream",
     "text": [
      "12000.0\n"
     ]
    }
   ],
   "source": [
    "def simple_interest():\n",
    "    p=float(input(\"enter principal amount\"))\n",
    "    t=float(input(\"enter the time\"))\n",
    "    r=float(input(\"enter rate of interest\"))\n",
    "    SI=(p*t*r)/100\n",
    "    return SI\n",
    "\n",
    "result=simple_interest()\n",
    "print(result)\n",
    "    \n",
    "    "
   ]
  },
  {
   "cell_type": "code",
   "execution_count": 22,
   "metadata": {},
   "outputs": [
    {
     "name": "stdout",
     "output_type": "stream",
     "text": [
      "14323.663313671888\n"
     ]
    }
   ],
   "source": [
    "def compound_interest():\n",
    "    p=float(input(\"enter principal amount\"))\n",
    "    t=float(input(\"enter the time\"))\n",
    "    rate=float(input(\"enter rate of interest\"))\n",
    "    a=p*(1+(rate/100))**t\n",
    "    CI=a-p\n",
    "    return CI\n",
    "\n",
    "result=compound_interest()\n",
    "print(result)"
   ]
  },
  {
   "cell_type": "code",
   "execution_count": 10,
   "metadata": {},
   "outputs": [
    {
     "name": "stdout",
     "output_type": "stream",
     "text": [
      "1.1698585600000002\n"
     ]
    }
   ],
   "source": [
    "a=4\n",
    "x=1.04\n",
    "exp=(x**a)\n",
    "print(exp)"
   ]
  },
  {
   "cell_type": "code",
   "execution_count": null,
   "metadata": {},
   "outputs": [],
   "source": []
  }
 ],
 "metadata": {
  "kernelspec": {
   "display_name": "Python 3",
   "language": "python",
   "name": "python3"
  },
  "language_info": {
   "codemirror_mode": {
    "name": "ipython",
    "version": 3
   },
   "file_extension": ".py",
   "mimetype": "text/x-python",
   "name": "python",
   "nbconvert_exporter": "python",
   "pygments_lexer": "ipython3",
   "version": "3.9.13"
  },
  "orig_nbformat": 4
 },
 "nbformat": 4,
 "nbformat_minor": 2
}
