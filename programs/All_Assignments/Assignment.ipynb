{
 "cells": [
  {
   "cell_type": "markdown",
   "metadata": {},
   "source": [
    "10 real-time application of convolution neural network"
   ]
  },
  {
   "cell_type": "markdown",
   "metadata": {},
   "source": [
    "Image Classification: CNNs are widely used for image classification tasks, such as identifying objects in images, recognizing handwritten digits, or categorizing objects into predefined classes.\n",
    "\n",
    "Object Detection: CNNs can detect and localize objects within an image, enabling applications like autonomous vehicles, surveillance systems, and facial recognition.\n",
    "\n",
    "Facial Recognition: CNNs are utilized in facial recognition systems for identifying and verifying individuals based on facial features, often used for security and authentication purposes.\n",
    "\n",
    "Natural Language Processing (NLP): Although primarily used for images, CNNs can be applied to NLP tasks like text classification and sentiment analysis when combined with techniques like word embeddings.\n",
    "\n",
    "Medical Image Analysis: CNNs have made significant advancements in medical image analysis, assisting in tasks such as tumor detection, MRI analysis, and pathology classification.\n",
    "\n",
    "Autonomous Vehicles: CNNs play a crucial role in the perception systems of autonomous vehicles, helping them identify and track objects on the road, recognize traffic signs, and navigate safely.\n",
    "\n",
    "Video Analysis: CNNs can be used to analyze video streams in real-time, such as action recognition, gesture recognition, and video surveillance.\n",
    "\n",
    "Artificial Augmented Reality (AR): CNNs enable real-time AR applications by detecting and tracking objects in the physical environment and overlaying digital content seamlessly.\n",
    "\n",
    "Robotics: CNNs are used in robotic applications for tasks like object manipulation, localization, and navigation in dynamic environments.\n",
    "\n",
    "Style Transfer: Style transfer using CNNs allows transforming images or videos to adopt the artistic style of another image, creating visually appealing effects and filters in real-time."
   ]
  }
 ],
 "metadata": {
  "language_info": {
   "name": "python"
  },
  "orig_nbformat": 4
 },
 "nbformat": 4,
 "nbformat_minor": 2
}
