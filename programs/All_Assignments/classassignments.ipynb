{
 "cells": [
  {
   "cell_type": "code",
   "execution_count": 4,
   "metadata": {},
   "outputs": [
    {
     "name": "stdout",
     "output_type": "stream",
     "text": [
      "{66, 77, 45, 50, 90}\n",
      "Using '&' Operator\n",
      "{66, 77, 45, 50, 90}\n"
     ]
    }
   ],
   "source": [
    "#Display Intersected marks between three class students using set operation\n",
    "Class_A={80,60,70,56,45,78,90,50,77,66}\n",
    "Class_B={50,45,55,66,77,99,88,90,67,76}\n",
    "Class_C={45,56,87,65,98,89,50,77,66,90}\n",
    "set1=Class_A.intersection(Class_B)\n",
    "total=set1.intersection(Class_C)\n",
    "print(total)\n",
    "\n",
    "print(\"Using '&' Operator\")\n",
    "set1=Class_A & Class_B\n",
    "total=set1 & Class_C\n",
    "print(total)"
   ]
  }
 ],
 "metadata": {
  "kernelspec": {
   "display_name": "Python 3",
   "language": "python",
   "name": "python3"
  },
  "language_info": {
   "codemirror_mode": {
    "name": "ipython",
    "version": 3
   },
   "file_extension": ".py",
   "mimetype": "text/x-python",
   "name": "python",
   "nbconvert_exporter": "python",
   "pygments_lexer": "ipython3",
   "version": "3.9.13"
  },
  "orig_nbformat": 4
 },
 "nbformat": 4,
 "nbformat_minor": 2
}
