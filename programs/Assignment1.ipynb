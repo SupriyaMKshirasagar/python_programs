{
 "cells": [
  {
   "cell_type": "code",
   "execution_count": 1,
   "metadata": {},
   "outputs": [
    {
     "name": "stdout",
     "output_type": "stream",
     "text": [
      "1.2\n"
     ]
    }
   ],
   "source": [
    "def simple_interest():\n",
    "    p=float(input(\"enter principal amount\"))\n",
    "    t=float(input(\"enter the time\"))\n",
    "    r=float(input(\"enter rate of interest\"))\n",
    "    SI=(p*t*r)/100\n",
    "    return SI\n",
    "\n",
    "result=simple_interest()\n",
    "print(result)"
   ]
  },
  {
   "cell_type": "code",
   "execution_count": 2,
   "metadata": {},
   "outputs": [
    {
     "name": "stdout",
     "output_type": "stream",
     "text": [
      "1083.2645120000007\n"
     ]
    }
   ],
   "source": [
    "def compound_interest():\n",
    "    p=float(input(\"enter principal amount\"))\n",
    "    t=float(input(\"enter the time\"))\n",
    "    rate=float(input(\"enter rate of interest\"))\n",
    "    a=p*(1+(rate/100))**t\n",
    "    CI=a-p\n",
    "    return CI\n",
    "\n",
    "result=compound_interest()\n",
    "print(result)"
   ]
  }
 ],
 "metadata": {
  "kernelspec": {
   "display_name": "Python 3",
   "language": "python",
   "name": "python3"
  },
  "language_info": {
   "codemirror_mode": {
    "name": "ipython",
    "version": 3
   },
   "file_extension": ".py",
   "mimetype": "text/x-python",
   "name": "python",
   "nbconvert_exporter": "python",
   "pygments_lexer": "ipython3",
   "version": "3.9.13"
  },
  "orig_nbformat": 4
 },
 "nbformat": 4,
 "nbformat_minor": 2
}
