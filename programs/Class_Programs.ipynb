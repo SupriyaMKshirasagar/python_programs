{
 "cells": [
  {
   "attachments": {},
   "cell_type": "markdown",
   "metadata": {},
   "source": [
    "OOPS CONCEPT"
   ]
  },
  {
   "cell_type": "code",
   "execution_count": 4,
   "metadata": {},
   "outputs": [
    {
     "name": "stdout",
     "output_type": "stream",
     "text": [
      "ON: True\n",
      "OFF: False\n",
      "True\n"
     ]
    }
   ],
   "source": [
    "class Blub:\n",
    "    #Attributes\n",
    "    ON=False\n",
    "    OFF=True\n",
    "    #Metods\n",
    "    def status(self):\n",
    "        print(\"ON:\",self.OFF)\n",
    "        print(\"OFF:\",self.ON)\n",
    "    \n",
    "obj=Blub()\n",
    "obj.status()\n",
    "print(obj.OFF)\n",
    "\n",
    "        "
   ]
  },
  {
   "cell_type": "code",
   "execution_count": 7,
   "metadata": {},
   "outputs": [
    {
     "name": "stdout",
     "output_type": "stream",
     "text": [
      "Enter five student marks\n",
      "33\n",
      "22\n",
      "11\n",
      "44\n",
      "55\n"
     ]
    }
   ],
   "source": [
    "#5 subject read and print\n",
    "n=[]\n",
    "print(\"Enter five student marks\")\n",
    "for i in range(5):\n",
    "    n.insert(i,int(input()))\n",
    "    print(n[i])"
   ]
  },
  {
   "cell_type": "code",
   "execution_count": 2,
   "metadata": {},
   "outputs": [
    {
     "name": "stdout",
     "output_type": "stream",
     "text": [
      "CAR DET: 4 5 Suzuki petrol 800\n"
     ]
    }
   ],
   "source": [
    "class Car:\n",
    "    wheels=4\n",
    "    seatingcapacity=\"\"\n",
    "    carModel=\"\"\n",
    "    Fueltype=\"\"\n",
    "    CC=\"\"\n",
    "    \n",
    "    def __init__(self,wheels,seatingcapacity,carModel,Fueltype,CC):\n",
    "        self.wheels=wheels\n",
    "        self.seatingcapacity=seatingcapacity\n",
    "        self.carModel=carModel\n",
    "        self.Fueltype=Fueltype\n",
    "        self.CC=CC\n",
    "        \n",
    "    def Cardetails(self):\n",
    "        print(\"CAR DET:\",self.wheels,self.seatingcapacity,self.carModel,self.Fueltype,self.CC)\n",
    "        \n",
    "obj=Car(4,5,\"Suzuki\",\"petrol\",800)\n",
    "obj.Cardetails()\n",
    "        "
   ]
  },
  {
   "cell_type": "code",
   "execution_count": 6,
   "metadata": {},
   "outputs": [
    {
     "name": "stdout",
     "output_type": "stream",
     "text": [
      "Book Details: C Programming   Balguru Swami   2000\n"
     ]
    }
   ],
   "source": [
    "class Book:\n",
    "    Book_Name=\"\"\n",
    "    Author_Name=\"\"\n",
    "    Prise=\"\"\n",
    "    \n",
    "    def __init__(self,Book_Name,Author_Name,Price):\n",
    "        self.Book_Name=Book_Name\n",
    "        self.Author_Name=Author_Name\n",
    "        self.Prise=Price\n",
    "        \n",
    "    def About_Book(self):\n",
    "        print(\"Book Details:\",self.Book_Name,self.Author_Name,self.Prise)\n",
    "        \n",
    "        \n",
    "BD=Book(\"C Programming\",\"  Balguru Swami  \",2000)\n",
    "BD.About_Book()"
   ]
  },
  {
   "cell_type": "code",
   "execution_count": 8,
   "metadata": {},
   "outputs": [
    {
     "name": "stdout",
     "output_type": "stream",
     "text": [
      "Employee Details: Anjali  Manager  30000  Hubli\n"
     ]
    }
   ],
   "source": [
    "class Employee:    \n",
    "    Employee_Name=\"\"\n",
    "    des=\"\"\n",
    "    salary=\"\"\n",
    "    Address=\"\"\n",
    "    \n",
    "    def __init__(self,Employee_Name,des,salary,Address):\n",
    "        self.Employee_Name=Employee_Name\n",
    "        self.des=des\n",
    "        self.salary=salary\n",
    "        self.Address=Address\n",
    "        \n",
    "    def emp_det(self):\n",
    "        print(\"Employee Details:\",self.Employee_Name,self.des,self.salary,self.Address)\n",
    "        \n",
    "ED=Employee(\"Anjali \",\"Manager \",30000,\" Hubli\")  \n",
    "ED.emp_det()  "
   ]
  },
  {
   "cell_type": "code",
   "execution_count": 6,
   "metadata": {},
   "outputs": [
    {
     "name": "stdout",
     "output_type": "stream",
     "text": [
      "Ready to drive, fuel available.\n"
     ]
    }
   ],
   "source": [
    "class Truck:\n",
    "    seat=2\n",
    "    tire=6\n",
    "    fuel=\"D\"\n",
    "    carrier=\"Goods\"\n",
    "    fuelstate=True\n",
    "    \n",
    "    \n",
    "    def Drive(self):\n",
    "        if self.fuelstate == True:\n",
    "            print(\"Ready to drive, fuel available.\")\n",
    "        else:\n",
    "            print(\"No fuel Available.\")\n",
    "\n",
    "    def _init_(self,seat,tire):\n",
    "        self.seat=seat\n",
    "        self.tire=tire\n",
    "        self.fuel=\"Petrol\"\n",
    "        self.carrier=\"Frozen Goods\"\n",
    "        self.fuelstate=True\n",
    "\n",
    "obj=Truck()\n",
    "obj.Drive()"
   ]
  },
  {
   "attachments": {},
   "cell_type": "markdown",
   "metadata": {},
   "source": [
    "Create a student class and initialize it with student details like name,roll number,marks1,marks2,marks3 and show all details of student with one method and another for showing sum of all three subject marks."
   ]
  },
  {
   "cell_type": "code",
   "execution_count": 10,
   "metadata": {},
   "outputs": [
    {
     "name": "stdout",
     "output_type": "stream",
     "text": [
      "Ashwini 122 99 88 90\n",
      "Total marks=  277\n"
     ]
    }
   ],
   "source": [
    "class Student:\n",
    "    Name=\"\"\n",
    "    Roll_no=\"\"\n",
    "    \n",
    "    Sub1=0\n",
    "    Sub2=0\n",
    "    Sub3=0\n",
    "    \n",
    "    \n",
    "    def stud_info(self):\n",
    "        print(self.Name,self.Roll_no,self.Sub1,self.Sub2,self.Sub3)\n",
    "        \n",
    "    def __init__(self,Name,Roll_no,Sub1,Sub2,Sub3):\n",
    "        self.Name=Name\n",
    "        self.Roll_no=Roll_no\n",
    "        self.Sub1=Sub1\n",
    "        self.Sub2=Sub2\n",
    "        self.Sub3=Sub3\n",
    "        \n",
    "    def add(self):\n",
    "        sum=self.Sub1+self.Sub2+self.Sub3\n",
    "        print(\"Total marks= \",sum)\n",
    "        \n",
    "\n",
    "obj=Student(\"Ashwini\",122,99,88,90) \n",
    "obj.stud_info()\n",
    "obj.add()      "
   ]
  },
  {
   "attachments": {},
   "cell_type": "markdown",
   "metadata": {},
   "source": [
    "Polymorphism\n"
   ]
  },
  {
   "cell_type": "code",
   "execution_count": 11,
   "metadata": {},
   "outputs": [
    {
     "name": "stdout",
     "output_type": "stream",
     "text": [
      "30\n",
      "hellopython\n"
     ]
    }
   ],
   "source": [
    "def add(a,b):\n",
    "    c=a+b\n",
    "    print(c)\n",
    "\n",
    "add(10,20)\n",
    "add(\"hello\",\"python\")"
   ]
  },
  {
   "cell_type": "code",
   "execution_count": 9,
   "metadata": {},
   "outputs": [
    {
     "name": "stdout",
     "output_type": "stream",
     "text": [
      "There are many types of birds\n",
      "Sparrows can fly\n",
      "Ostrich can't fly\n"
     ]
    }
   ],
   "source": [
    "class Bird:\n",
    "    def intro(self):\n",
    "        print(\"There are many types of birds\")\n",
    "    def flight(self):\n",
    "        print(\"Most of the bird can fly but some not\")\n",
    "        \n",
    "class sparrows(Bird):\n",
    "    \n",
    "    def flight(self):\n",
    "        print(\"Sparrows can fly\")\n",
    "\n",
    "class Ostrich(Bird):\n",
    "    def flight(self):\n",
    "        print(\"Ostrich can't fly\")\n",
    "        \n",
    "        \n",
    "obj_Bird=Bird()\n",
    "obj_Sparrows=sparrows()\n",
    "obj_ostrich=Ostrich()\n",
    "\n",
    "obj_Bird.intro()\n",
    "obj_Sparrows.flight()\n",
    "\n",
    "obj_ostrich.flight()"
   ]
  },
  {
   "cell_type": "code",
   "execution_count": 11,
   "metadata": {},
   "outputs": [
    {
     "name": "stdout",
     "output_type": "stream",
     "text": [
      "Car info display\n",
      "Truck info display\n"
     ]
    }
   ],
   "source": [
    "class car():\n",
    "    def display(self):\n",
    "        print(\"Car info display\")\n",
    "    \n",
    "class truck():\n",
    "    def display(self):\n",
    "        print(\"Truck info display\")\n",
    "        \n",
    "obj1=car()\n",
    "obj2=truck()\n",
    "\n",
    "def fun(obj):\n",
    "    obj.display()\n",
    "    \n",
    "fun(obj1)\n",
    "fun(obj2)"
   ]
  },
  {
   "attachments": {},
   "cell_type": "markdown",
   "metadata": {},
   "source": [
    "Encapsulation"
   ]
  },
  {
   "cell_type": "code",
   "execution_count": 3,
   "metadata": {},
   "outputs": [
    {
     "ename": "AttributeError",
     "evalue": "'Child' object has no attribute '_Child__c'",
     "output_type": "error",
     "traceback": [
      "\u001b[1;31m---------------------------------------------------------------------------\u001b[0m",
      "\u001b[1;31mAttributeError\u001b[0m                            Traceback (most recent call last)",
      "\u001b[1;32m~\\AppData\\Local\\Temp\\ipykernel_1720\\3582460587.py\u001b[0m in \u001b[0;36m<module>\u001b[1;34m\u001b[0m\n\u001b[0;32m      9\u001b[0m         \u001b[0mprint\u001b[0m\u001b[1;33m(\u001b[0m\u001b[0mself\u001b[0m\u001b[1;33m.\u001b[0m\u001b[0m__c\u001b[0m\u001b[1;33m)\u001b[0m\u001b[1;33m\u001b[0m\u001b[1;33m\u001b[0m\u001b[0m\n\u001b[0;32m     10\u001b[0m \u001b[1;33m\u001b[0m\u001b[0m\n\u001b[1;32m---> 11\u001b[1;33m \u001b[0mobj1\u001b[0m\u001b[1;33m=\u001b[0m\u001b[0mChild\u001b[0m\u001b[1;33m(\u001b[0m\u001b[1;33m)\u001b[0m\u001b[1;33m\u001b[0m\u001b[1;33m\u001b[0m\u001b[0m\n\u001b[0m\u001b[0;32m     12\u001b[0m \u001b[0mprint\u001b[0m\u001b[1;33m(\u001b[0m\u001b[0mobj1\u001b[0m\u001b[1;33m.\u001b[0m\u001b[0m__c\u001b[0m\u001b[1;33m)\u001b[0m\u001b[1;33m\u001b[0m\u001b[1;33m\u001b[0m\u001b[0m\n",
      "\u001b[1;32m~\\AppData\\Local\\Temp\\ipykernel_1720\\3582460587.py\u001b[0m in \u001b[0;36m__init__\u001b[1;34m(self)\u001b[0m\n\u001b[0;32m      7\u001b[0m     \u001b[1;32mdef\u001b[0m \u001b[0m__init__\u001b[0m\u001b[1;33m(\u001b[0m\u001b[0mself\u001b[0m\u001b[1;33m)\u001b[0m\u001b[1;33m:\u001b[0m\u001b[1;33m\u001b[0m\u001b[1;33m\u001b[0m\u001b[0m\n\u001b[0;32m      8\u001b[0m         \u001b[0mParent\u001b[0m\u001b[1;33m.\u001b[0m\u001b[0m__init__\u001b[0m\u001b[1;33m(\u001b[0m\u001b[0mself\u001b[0m\u001b[1;33m)\u001b[0m\u001b[1;33m\u001b[0m\u001b[1;33m\u001b[0m\u001b[0m\n\u001b[1;32m----> 9\u001b[1;33m         \u001b[0mprint\u001b[0m\u001b[1;33m(\u001b[0m\u001b[0mself\u001b[0m\u001b[1;33m.\u001b[0m\u001b[0m__c\u001b[0m\u001b[1;33m)\u001b[0m\u001b[1;33m\u001b[0m\u001b[1;33m\u001b[0m\u001b[0m\n\u001b[0m\u001b[0;32m     10\u001b[0m \u001b[1;33m\u001b[0m\u001b[0m\n\u001b[0;32m     11\u001b[0m \u001b[0mobj1\u001b[0m\u001b[1;33m=\u001b[0m\u001b[0mChild\u001b[0m\u001b[1;33m(\u001b[0m\u001b[1;33m)\u001b[0m\u001b[1;33m\u001b[0m\u001b[1;33m\u001b[0m\u001b[0m\n",
      "\u001b[1;31mAttributeError\u001b[0m: 'Child' object has no attribute '_Child__c'"
     ]
    }
   ],
   "source": [
    "class Parent:\n",
    "    def __init__(self):\n",
    "        self.a=\"Python\"\n",
    "        self.__c=\"Programming\"\n",
    "        \n",
    "class Child(Parent):\n",
    "    def __init__(self):\n",
    "        Parent.__init__(self)\n",
    "        print(self.__c)\n",
    "\n",
    "obj1=Child()\n",
    "print(obj1.__c)"
   ]
  },
  {
   "attachments": {},
   "cell_type": "markdown",
   "metadata": {},
   "source": [
    "Inheritance demo"
   ]
  },
  {
   "cell_type": "code",
   "execution_count": 7,
   "metadata": {},
   "outputs": [
    {
     "name": "stdout",
     "output_type": "stream",
     "text": [
      "30\n"
     ]
    }
   ],
   "source": [
    "class Base:\n",
    "    a=10\n",
    "    \n",
    "class Derived(Base):\n",
    "    b=20\n",
    "    def add(self):\n",
    "        c=self.a+self.b\n",
    "        print(c)\n",
    "    \n",
    "obj=Derived()\n",
    "obj.add()"
   ]
  },
  {
   "attachments": {},
   "cell_type": "markdown",
   "metadata": {},
   "source": [
    "Pass"
   ]
  },
  {
   "cell_type": "code",
   "execution_count": 12,
   "metadata": {},
   "outputs": [],
   "source": [
    "class Pass_class():\n",
    "    def pass_fun(self):\n",
    "        pass                  #if we don't know the function definition we can use pass\n"
   ]
  },
  {
   "cell_type": "code",
   "execution_count": 10,
   "metadata": {},
   "outputs": [],
   "source": [
    "class Pass_class():\n",
    "    def pass_fun(self):\n",
    "        if 20>20:\n",
    "            pass \n",
    "        \n",
    "        \n",
    "obj=Pass_class()\n",
    "obj.pass_fun()"
   ]
  },
  {
   "cell_type": "code",
   "execution_count": 1,
   "metadata": {},
   "outputs": [
    {
     "name": "stdout",
     "output_type": "stream",
     "text": [
      "Birds can fly\n",
      "Tiger hunt the animals\n"
     ]
    }
   ],
   "source": [
    "from abc import ABC,abstractmethod\n",
    "class animals():\n",
    "    \n",
    "    def display(self):\n",
    "        pass\n",
    "    \n",
    "class bird(animals):\n",
    "    def display(self):\n",
    "        print(\"Birds can fly\")\n",
    "        \n",
    "class tiger(animals):\n",
    "    def display(self):\n",
    "        print(\"Tiger hunt the animals\")\n",
    "        \n",
    "b=bird()\n",
    "b.display()\n",
    "t=tiger()\n",
    "t.display()"
   ]
  },
  {
   "attachments": {},
   "cell_type": "markdown",
   "metadata": {},
   "source": [
    "statistics\n"
   ]
  },
  {
   "cell_type": "code",
   "execution_count": 38,
   "metadata": {},
   "outputs": [
    {
     "name": "stdout",
     "output_type": "stream",
     "text": [
      "4\n",
      "8\n",
      "9\n",
      "9\n",
      "13\n",
      "22\n"
     ]
    }
   ],
   "source": [
    "import math\n",
    "i=4\n",
    "SD=0\n",
    "x=[2,2,3,4,6,7]\n",
    "N=6\n",
    "for d in x:\n",
    "    SD+=((d-i)** 2)\n",
    "    print(SD)\n"
   ]
  },
  {
   "cell_type": "code",
   "execution_count": 25,
   "metadata": {},
   "outputs": [
    {
     "name": "stdout",
     "output_type": "stream",
     "text": [
      "1.9149\n"
     ]
    }
   ],
   "source": [
    "import math\n",
    "s=math.sqrt(22/6)\n",
    "print(round(s,4))\n"
   ]
  },
  {
   "cell_type": "code",
   "execution_count": 44,
   "metadata": {},
   "outputs": [
    {
     "name": "stdout",
     "output_type": "stream",
     "text": [
      "x-mu: 62.0\n",
      "Standard Devation: 3.9370039370059056\n"
     ]
    }
   ],
   "source": [
    "from math import sqrt\n",
    "x=[-1,-2,3,8]\n",
    "N=len(x)\n",
    "mu=sum(x)/N\n",
    "x_mu=0\n",
    "for i in x:\n",
    "    x_mu=x_mu+(i-mu)**2\n",
    "print(\"x-mu:\",x_mu)\n",
    "\n",
    "sigma=sqrt((x_mu)/N)\n",
    "print(\"Standard Devation:\",sigma)"
   ]
  },
  {
   "attachments": {},
   "cell_type": "markdown",
   "metadata": {},
   "source": [
    "Variance"
   ]
  },
  {
   "cell_type": "code",
   "execution_count": 1,
   "metadata": {},
   "outputs": [
    {
     "name": "stdout",
     "output_type": "stream",
     "text": [
      "x_mu: 28.0\n",
      "Standard Devation : 2.0\n"
     ]
    }
   ],
   "source": [
    "from math import sqrt\n",
    "x=[1,4,2,5,3,6,7]\n",
    "N=len(x)\n",
    "mu=sum(x)/N\n",
    "x_mu=0\n",
    "for i in x:\n",
    "    x_mu=x_mu+(i-mu)**2\n",
    "print(\"x_mu:\",x_mu)\n",
    "\n",
    "sigma=sqrt((x_mu)/N)\n",
    "print(\"Standard Devation :\",sigma)   "
   ]
  },
  {
   "cell_type": "code",
   "execution_count": 5,
   "metadata": {},
   "outputs": [
    {
     "data": {
      "image/png": "[encoded data removed]",
      "text/plain": [
       "<Figure size 640x480 with 1 Axes>"
      ]
     },
     "metadata": {},
     "output_type": "display_data"
    }
   ],
   "source": [
    "import pandas \n",
    "import matplotlib.pyplot as plt\n",
    "\n",
    "data=[80,90,60,50,30,70]\n",
    "\n",
    "plt.pie(data,labels={'sub1','sub2','sub3','sub4','sub5','sub6'},autopct='% 1.1f%%')\n",
    "plt.show()\n"
   ]
  },
  {
   "cell_type": "code",
   "execution_count": 6,
   "metadata": {},
   "outputs": [
    {
     "data": {
      "image/png": "[encoded data removed]",
      "text/plain": [
       "<Figure size 640x480 with 1 Axes>"
      ]
     },
     "metadata": {},
     "output_type": "display_data"
    }
   ],
   "source": [
    "import matplotlib.pyplot as plt\n",
    "import numpy as np\n",
    "\n",
    "y = np.array([35, 25, 25, 15])\n",
    "\n",
    "plt.pie(y)\n",
    "plt.show()"
   ]
  },
  {
   "cell_type": "code",
   "execution_count": 25,
   "metadata": {},
   "outputs": [
    {
     "data": {
      "image/png": "[encoded data removed]",
      "text/plain": [
       "<Figure size 640x480 with 1 Axes>"
      ]
     },
     "metadata": {},
     "output_type": "display_data"
    }
   ],
   "source": [
    "import pandas as pd\n",
    "import matplotlib.pyplot as plt\n",
    "\n",
    "age=[20,25,40,45,70,60,30]\n",
    "income=[100,200,300,400,500,600,700]\n",
    "\n",
    "age1=[10,15,20,65,77]\n",
    "income1=[150,250,350,450,550]\n",
    "\n",
    "plt.scatter(income,age,marker=\"*\",c=\"red\")\n",
    "plt.scatter(income1,age1,marker=\"^\",c=\"purple\")\n",
    "plt.xlabel(\"Income\")\n",
    "plt.ylabel(\"Age\")\n",
    "plt.show()\n",
    "\n",
    "\n",
    "\n",
    "\n"
   ]
  },
  {
   "cell_type": "code",
   "execution_count": 5,
   "metadata": {},
   "outputs": [
    {
     "data": {
      "image/png": "[encoded data removed]",
      "text/plain": [
       "<Figure size 640x480 with 1 Axes>"
      ]
     },
     "metadata": {},
     "output_type": "display_data"
    }
   ],
   "source": [
    "import pandas as pd\n",
    "import matplotlib.pyplot as plt\n",
    "\n",
    "age=[35,23,24,34,50]\n",
    "\n",
    "plt.pie(age,labels={'ashish','abhi','arav','anu','apu'},autopct='% 1.1f%%')\n",
    "\n",
    "plt.show()\n",
    "\n"
   ]
  }
 ],
 "metadata": {
  "kernelspec": {
   "display_name": "Python 3",
   "language": "python",
   "name": "python3"
  },
  "language_info": {
   "codemirror_mode": {
    "name": "ipython",
    "version": 3
   },
   "file_extension": ".py",
   "mimetype": "text/x-python",
   "name": "python",
   "nbconvert_exporter": "python",
   "pygments_lexer": "ipython3",
   "version": "3.9.13"
  },
  "orig_nbformat": 4
 },
 "nbformat": 4,
 "nbformat_minor": 2
}
