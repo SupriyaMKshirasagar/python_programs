{
 "cells": [
  {
   "cell_type": "code",
   "execution_count": 11,
   "metadata": {},
   "outputs": [
    {
     "name": "stdout",
     "output_type": "stream",
     "text": [
      "even\n"
     ]
    }
   ],
   "source": [
    "#write a program to find the given number n by user in even or odd\n",
    "n=int(input(\"enter a number\"))\n",
    "if(n%2==0):\n",
    "    print(\"even\")\n",
    "else:\n",
    "    print(\"odd\")\n",
    "    "
   ]
  },
  {
   "cell_type": "code",
   "execution_count": 27,
   "metadata": {},
   "outputs": [
    {
     "name": "stdout",
     "output_type": "stream",
     "text": [
      "9000.0\n"
     ]
    }
   ],
   "source": [
    "#write a python program to find the simple interest for the principal amount 7500\n",
    "p=7500\n",
    "t=int(input(\"enter the time\"))\n",
    "r=int(input(\"enter the rate of interest\"))\n",
    "SI=p*t*r/100\n",
    "print(SI)"
   ]
  },
  {
   "cell_type": "code",
   "execution_count": 13,
   "metadata": {},
   "outputs": [
    {
     "name": "stdout",
     "output_type": "stream",
     "text": [
      "50 is largest\n"
     ]
    }
   ],
   "source": [
    "#write a python program to find a largest of three numbers\n",
    "def largest_fun():\n",
    "    a=int(input(\"enter first value\"))\n",
    "    b=int(input(\"enter second value\"))\n",
    "    c=int(input(\"enter third value\"))\n",
    "    if(a>b and a>c):\n",
    "        print(a,\"is largest\")\n",
    "    elif(b>a and b>c):\n",
    "        print(b,\"is largest\")\n",
    "    else:\n",
    "        print(c,\"is largest\")\n",
    "    \n",
    "largest_fun()"
   ]
  },
  {
   "cell_type": "code",
   "execution_count": 9,
   "metadata": {},
   "outputs": [
    {
     "name": "stdout",
     "output_type": "stream",
     "text": [
      "11\n",
      "33\n",
      "55\n"
     ]
    }
   ],
   "source": [
    "#Find the python program to find the odd numbers in the list of numbes entered by user\n",
    "list1=[]\n",
    "for i in range(5):\n",
    "    list1.insert(i,int(input()))\n",
    "for i in range(5):\n",
    "    if list1[i] % 2 !=0:\n",
    "        print(list1[i])"
   ]
  },
  {
   "cell_type": "code",
   "execution_count": 25,
   "metadata": {},
   "outputs": [
    {
     "name": "stdout",
     "output_type": "stream",
     "text": [
      "4 is not a prime number\n"
     ]
    }
   ],
   "source": [
    "#Write a python program to find the number is prime or not\n",
    "num=int(input(\"enter a value\"))\n",
    "flag=False\n",
    "if num==1:\n",
    "    print(num,\"is not a prime number\")\n",
    "elif num>1:\n",
    "    for i in range(2,num):\n",
    "        if num%i==0:\n",
    "            flag=True\n",
    "            break;\n",
    "if flag:\n",
    "    print(num,\"is not a prime number\") \n",
    "else:\n",
    "    print(num,\"is a prime number\")   \n",
    "    "
   ]
  },
  {
   "cell_type": "code",
   "execution_count": 18,
   "metadata": {},
   "outputs": [
    {
     "data": {
      "text/plain": [
       "[[0, 1, 2, 3], [0, 1, 2, 3], [0, 1, 2, 3], [0, 1, 2, 3]]"
      ]
     },
     "execution_count": 18,
     "metadata": {},
     "output_type": "execute_result"
    }
   ],
   "source": [
    "#write a python progam to print the matrix of 4x4 using list\n",
    "m=[[j for j in range(4)]for i in range(4)]\n",
    "m"
   ]
  }
 ],
 "metadata": {
  "kernelspec": {
   "display_name": "Python 3",
   "language": "python",
   "name": "python3"
  },
  "language_info": {
   "codemirror_mode": {
    "name": "ipython",
    "version": 3
   },
   "file_extension": ".py",
   "mimetype": "text/x-python",
   "name": "python",
   "nbconvert_exporter": "python",
   "pygments_lexer": "ipython3",
   "version": "3.9.13"
  },
  "orig_nbformat": 4
 },
 "nbformat": 4,
 "nbformat_minor": 2
}
