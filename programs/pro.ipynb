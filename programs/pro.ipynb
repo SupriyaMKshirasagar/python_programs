{
 "cells": [
  {
   "cell_type": "code",
   "execution_count": null,
   "metadata": {},
   "outputs": [],
   "source": [
    "#Find the python program to find the odd numbers in the list of numbes entered by user\n",
    "n=[]\n",
    "print(\"enter numbers\")\n",
    "for i in range(8):\n",
    "    n.insert(i,int(input()))\n",
    "\n",
    "print(\"odd number\")\n",
    "for i in range(8):\n",
    "    if i % 2!=0:\n",
    "        print(i)\n",
    "        "
   ]
  }
 ],
 "metadata": {
  "kernelspec": {
   "display_name": "Python 3",
   "language": "python",
   "name": "python3"
  },
  "language_info": {
   "name": "python",
   "version": "3.11.2"
  },
  "orig_nbformat": 4
 },
 "nbformat": 4,
 "nbformat_minor": 2
}
