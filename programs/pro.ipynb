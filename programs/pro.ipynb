{
 "cells": [
  {
   "cell_type": "code",
   "execution_count": 4,
   "metadata": {},
   "outputs": [
    {
     "name": "stdout",
     "output_type": "stream",
     "text": [
      "11\n",
      "33\n",
      "55\n",
      "77\n"
     ]
    }
   ],
   "source": [
    "#Find the python program to find the odd numbers in the list of numbes entered by user\n",
    "n=[]\n",
    "for i in range(8):\n",
    "    n.insert(i,int(input()))\n",
    "    \n",
    "for i in range(8):\n",
    "    if n[i] % 2!=0:\n",
    "        print(n[i])        "
   ]
  },
  {
   "cell_type": "code",
   "execution_count": 9,
   "metadata": {},
   "outputs": [
    {
     "name": "stdout",
     "output_type": "stream",
     "text": [
      "['Abhinav', 'Akanshika', 'Anajali', 'Appu']\n",
      "[111, 602, 456, 234]\n",
      "{111: 'Abhinav', 602: 'Akanshika', 456: 'Anajali', 234: 'Appu'}\n"
     ]
    }
   ],
   "source": [
    "#write a python program to convert two listinto dictionary\n",
    "list_values=['Abhinav','Akanshika','Anajali','Appu']\n",
    "list_keys=[111,602,456,234]\n",
    "\n",
    "print(list_values)\n",
    "print(list_keys)\n",
    "\n",
    "res={list_keys[i] : list_values[i] for i in range(len(list_keys))}\n",
    "print(res)"
   ]
  },
  {
   "cell_type": "code",
   "execution_count": 3,
   "metadata": {},
   "outputs": [
    {
     "data": {
      "text/plain": [
       "[[0, 1, 2, 3], [0, 1, 2, 3], [0, 1, 2, 3], [0, 1, 2, 3]]"
      ]
     },
     "execution_count": 3,
     "metadata": {},
     "output_type": "execute_result"
    }
   ],
   "source": [
    "m=[[j for j in range (4)] for i in range (4)]\n",
    "m"
   ]
  }
 ],
 "metadata": {
  "kernelspec": {
   "display_name": "Python 3",
   "language": "python",
   "name": "python3"
  },
  "language_info": {
   "codemirror_mode": {
    "name": "ipython",
    "version": 3
   },
   "file_extension": ".py",
   "mimetype": "text/x-python",
   "name": "python",
   "nbconvert_exporter": "python",
   "pygments_lexer": "ipython3",
   "version": "3.9.13"
  },
  "orig_nbformat": 4
 },
 "nbformat": 4,
 "nbformat_minor": 2
}
