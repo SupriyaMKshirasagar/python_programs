{
 "cells": [
  {
   "cell_type": "markdown",
   "metadata": {},
   "source": [
    "Write a python program to print the matrix 4x4 using List"
   ]
  },
  {
   "cell_type": "code",
   "execution_count": 4,
   "metadata": {},
   "outputs": [
    {
     "name": "stdout",
     "output_type": "stream",
     "text": [
      "1\t2\t3\t4\t\n",
      "5\t6\t7\t8\t\n",
      "9\t10\t11\t12\t\n",
      "13\t14\t15\t16\t\n"
     ]
    }
   ],
   "source": [
    "matrix = [\n",
    "    [1, 2, 3, 4],\n",
    "    [5, 6, 7, 8],\n",
    "    [9, 10, 11, 12],\n",
    "    [13, 14, 15, 16]\n",
    "]\n",
    "\n",
    "for row in matrix:\n",
    "    for element in row:\n",
    "        print(element, end=\"\\t\")\n",
    "    print()"
   ]
  },
  {
   "cell_type": "markdown",
   "metadata": {},
   "source": [
    "Find the python program to find the odd numbers in the list of numbers entered by user."
   ]
  },
  {
   "cell_type": "code",
   "execution_count": 5,
   "metadata": {},
   "outputs": [
    {
     "name": "stdout",
     "output_type": "stream",
     "text": [
      "Odd numbers in the list: [3, 5, 7]\n"
     ]
    }
   ],
   "source": [
    "input_str = input(\"Enter a list of numbers separated by spaces: \")\n",
    "\n",
    "number_strings = input_str.split()\n",
    "\n",
    "\n",
    "odd_numbers = []\n",
    "\n",
    "for num_str in number_strings:\n",
    "    try:\n",
    "        num = int(num_str)\n",
    "        if num % 2 != 0:\n",
    "            odd_numbers.append(num)\n",
    "    except ValueError:\n",
    "        pass  \n",
    "print(\"Odd numbers in the list:\",odd_numbers)"
   ]
  },
  {
   "cell_type": "markdown",
   "metadata": {},
   "source": [
    "Write a python and create a class named Employee with attributes name,position,and salary metod to calculate the annual salary of the employee."
   ]
  },
  {
   "cell_type": "code",
   "execution_count": 8,
   "metadata": {},
   "outputs": [
    {
     "name": "stdout",
     "output_type": "stream",
     "text": [
      "John Doe is a Manager  $96000.00\n"
     ]
    }
   ],
   "source": [
    "class Employee:\n",
    "    def __init__(self, name, position, salary):\n",
    "        self.name = name\n",
    "        self.position = position\n",
    "        self.salary = salary\n",
    "\n",
    "    def calculate_annual_salary(self):\n",
    "        annual_salary = self.salary * 12\n",
    "        return annual_salary\n",
    "\n",
    "# Create an Employee instance\n",
    "employee1 = Employee(\"John Doe\", \"Manager\", 8000)\n",
    "\n",
    "# Calculate the annual salary\n",
    "annual_salary = employee1.calculate_annual_salary()\n",
    "\n",
    "# Print the employee's information\n",
    "print(f\"{employee1.name} is a {employee1.position}  ${annual_salary:.2f}\")\n"
   ]
  },
  {
   "cell_type": "markdown",
   "metadata": {},
   "source": [
    "Write a python program to multiply two matrices and check resultant matrix order"
   ]
  },
  {
   "cell_type": "code",
   "execution_count": 9,
   "metadata": {},
   "outputs": [
    {
     "name": "stdout",
     "output_type": "stream",
     "text": [
      "Resultant Matrix:\n",
      "[58, 64]\n",
      "[139, 154]\n",
      "Order of Resultant Matrix: (2, 2)\n"
     ]
    }
   ],
   "source": [
    "def matrix_multiply(matrix1, matrix2):\n",
    "    rows1, cols1 = len(matrix1), len(matrix1[0])\n",
    "    rows2, cols2 = len(matrix2), len(matrix2[0])\n",
    "\n",
    "    if cols1 != rows2:\n",
    "        return None  \n",
    "    result = [[0 for _ in range(cols2)] for _ in range(rows1)]\n",
    "    for i in range(rows1):\n",
    "        for j in range(cols2):\n",
    "            for k in range(cols1):\n",
    "                result[i][j] += matrix1[i][k] * matrix2[k][j]\n",
    "\n",
    "    return result, (rows1, cols2)\n",
    "matrix1 = [[1, 2, 3],\n",
    "           [4, 5, 6]]\n",
    "matrix2 = [[7, 8],\n",
    "           [9, 10],\n",
    "           [11, 12]]\n",
    "\n",
    "result_matrix, order = matrix_multiply(matrix1, matrix2)\n",
    "\n",
    "if result_matrix is not None:\n",
    "    print(\"Resultant Matrix:\")\n",
    "    for row in result_matrix:\n",
    "        print(row)\n",
    "    print(f\"Order of Resultant Matrix: {order}\")\n",
    "else:\n",
    "    print(\"Matrices cannot be multiplied due to incompatible dimensions.\")\n"
   ]
  },
  {
   "cell_type": "markdown",
   "metadata": {},
   "source": [
    "Write a python program to convert colored image to grayscale and rotate it in clockwise 45 degrees using opencv"
   ]
  },
  {
   "cell_type": "code",
   "execution_count": 1,
   "metadata": {},
   "outputs": [
    {
     "name": "stdout",
     "output_type": "stream",
     "text": [
      "Error: Image not found.\n"
     ]
    }
   ],
   "source": [
    "import cv2\n",
    "import numpy as np\n",
    "\n",
    "image = cv2.imread('imggg.jpeg')\n",
    "\n",
    "if image is None:\n",
    "    print(\"Error: Image not found.\")\n",
    "else:\n",
    "    grayscale_image = cv2.cvtColor(image, cv2.COLOR_BGR2GRAY)\n",
    "    height, width = grayscale_image.shape[:2]\n",
    "    rotation_matrix = cv2.getRotationMatrix2D((width / 2, height / 2), 45, 1)\n",
    "    rotated_image = cv2.warpAffine(grayscale_image, rotation_matrix, (width, height))\n",
    "    cv2.imshow('Grayscale Image', grayscale_image)\n",
    "    cv2.imshow('Rotated Image', rotated_image)\n",
    "    cv2.imwrite('rotated_image.jpg', rotated_image)\n",
    "    cv2.waitKey(0)\n",
    "    cv2.destroyAllWindows()"
   ]
  }
 ],
 "metadata": {
  "kernelspec": {
   "display_name": "base",
   "language": "python",
   "name": "python3"
  },
  "language_info": {
   "codemirror_mode": {
    "name": "ipython",
    "version": 3
   },
   "file_extension": ".py",
   "mimetype": "text/x-python",
   "name": "python",
   "nbconvert_exporter": "python",
   "pygments_lexer": "ipython3",
   "version": "3.9.13"
  },
  "orig_nbformat": 4
 },
 "nbformat": 4,
 "nbformat_minor": 2
}
