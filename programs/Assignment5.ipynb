{
 "cells": [
  {
   "cell_type": "code",
   "execution_count": 1,
   "metadata": {},
   "outputs": [
    {
     "name": "stdout",
     "output_type": "stream",
     "text": [
      "Area of circle is:  12.568\n"
     ]
    }
   ],
   "source": [
    "#Program to find area of circle\n",
    "pi=3.142\n",
    "def area_circle():\n",
    "    r=float(input(\"enter radius\"))\n",
    "    ar=pi*r*r\n",
    "    return ar\n",
    "\n",
    "ans=area_circle()\n",
    "print(\"Area of circle is: \",ans)\n",
    "    "
   ]
  },
  {
   "cell_type": "code",
   "execution_count": 5,
   "metadata": {},
   "outputs": [
    {
     "name": "stdout",
     "output_type": "stream",
     "text": [
      "Before swapping a= 10 and b= 20\n",
      "After swapping a= 20 and b= 10\n"
     ]
    }
   ],
   "source": [
    "#program to swap two numbers\n",
    "\n",
    "def swapping():\n",
    "    a=int(input(\"enter first number\"))\n",
    "    b=int(input(\"enter second number\"))\n",
    "    print(\"Before swapping a=\",a,\"and b=\",b)\n",
    "    tm=a\n",
    "    a=b\n",
    "    b=tm\n",
    "    print(\"After swapping a=\",a,\"and b=\",b)\n",
    "    \n",
    "\n",
    "swapping()"
   ]
  },
  {
   "cell_type": "code",
   "execution_count": 7,
   "metadata": {},
   "outputs": [
    {
     "name": "stdout",
     "output_type": "stream",
     "text": [
      "15.534275000000001\n"
     ]
    }
   ],
   "source": [
    "#Program to convert kilometers to miles\n",
    "def kilometers_miles():\n",
    "    k=float(input(\"enter the kilometers\"))\n",
    "    #1km=0.621371\n",
    "    miles=k*0.621371\n",
    "    return miles\n",
    "\n",
    "ans=kilometers_miles()\n",
    "print(ans)"
   ]
  }
 ],
 "metadata": {
  "kernelspec": {
   "display_name": "Python 3",
   "language": "python",
   "name": "python3"
  },
  "language_info": {
   "codemirror_mode": {
    "name": "ipython",
    "version": 3
   },
   "file_extension": ".py",
   "mimetype": "text/x-python",
   "name": "python",
   "nbconvert_exporter": "python",
   "pygments_lexer": "ipython3",
   "version": "3.9.13"
  },
  "orig_nbformat": 4
 },
 "nbformat": 4,
 "nbformat_minor": 2
}
