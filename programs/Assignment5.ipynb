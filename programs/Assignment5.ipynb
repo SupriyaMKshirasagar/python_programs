{
 "cells": [
  {
   "cell_type": "code",
   "execution_count": 1,
   "metadata": {},
   "outputs": [
    {
     "name": "stdout",
     "output_type": "stream",
     "text": [
      "Area of circle is:  12.568\n"
     ]
    }
   ],
   "source": [
    "                                                                                                                                                                                                                                                                                                                                                                                                                                                                                                                                                                                                                                                                                                                                #Program to find area of circle\n",
    "pi=3.142\n",
    "def area_circle():\n",
    "    r=float(input(\"enter radius\"))\n",
    "    ar=pi*r*r\n",
    "    return ar\n",
    "\n",
    "ans=area_circle()\n",
    "print(\"Area of circle is: \",ans)\n",
    "    "
   ]
  },
  {
   "cell_type": "code",
   "execution_count": 5,
   "metadata": {},
   "outputs": [
    {
     "name": "stdout",
     "output_type": "stream",
     "text": [
      "Before swapping a= 10 and b= 20\n",
      "After swapping a= 20 and b= 10\n"
     ]
    }
   ],
   "source": [
    "#program to swap two numbers\n",
    "\n",
    "def swapping():\n",
    "    a=int(input(\"enter first number\"))\n",
    "    b=int(input(\"enter second number\"))\n",
    "    print(\"Before swapping a=\",a,\"and b=\",b)\n",
    "    tm=a\n",
    "    a=b\n",
    "    b=tm\n",
    "    print(\"After swapping a=\",a,\"and b=\",b)\n",
    "    \n",
    "\n",
    "swapping()"
   ]
  },
  {
   "cell_type": "code",
   "execution_count": 7,
   "metadata": {},
   "outputs": [
    {
     "name": "stdout",
     "output_type": "stream",
     "text": [
      "15.534275000000001\n"
     ]
    }
   ],
   "source": [
    "#Program to convert kilometers to miles\n",
    "def kilometers_miles():\n",
    "    k=float(input(\"enter the kilometers\"))\n",
    "    #1km=0.621371\n",
    "    miles=k*0.621371\n",
    "    return miles\n",
    "\n",
    "ans=kilometers_miles()\n",
    "print(ans)"
   ]
  },
  {
   "cell_type": "code",
   "execution_count": 3,
   "metadata": {},
   "outputs": [
    {
     "name": "stdout",
     "output_type": "stream",
     "text": [
      "[(0, 'A'), (1, 'B'), (2, 'C')]\n",
      "0,A\n",
      "1,B\n",
      "2,C\n"
     ]
    }
   ],
   "source": [
    "#ENUMARATED\n",
    "L1=[\"A\",\"B\",\"C\"]\n",
    "OBJ=enumerate(L1)\n",
    "print(list(OBJ))\n",
    "\n",
    "for i,j in enumerate(L1):\n",
    "    print(i,j,sep=\",\")"
   ]
  },
  {
   "cell_type": "code",
   "execution_count": 7,
   "metadata": {},
   "outputs": [
    {
     "name": "stdout",
     "output_type": "stream",
     "text": [
      "[1, 2, 3, 4, 5, 6, 7, 8, 9, 10, 11, 12, 13, 14, 15]\n",
      "[1, 2, 3, 4, 5, 6, 7, 8, 9]\n"
     ]
    }
   ],
   "source": [
    "#list comprehension\n",
    "list1=[1,2,3,4,5,6,7,8,9,10,11,12,13,14,15]\n",
    "print(list1)\n",
    "new_list =[i for i in list1 if i<10]\n",
    "\n",
    "print(new_list)"
   ]
  },
  {
   "cell_type": "code",
   "execution_count": 8,
   "metadata": {},
   "outputs": [
    {
     "name": "stdout",
     "output_type": "stream",
     "text": [
      "[7.5, 9.0, 10.5, 12.0]\n"
     ]
    }
   ],
   "source": [
    "#List comprehension\n",
    "custome_list1=[(i/2)*3 for i in range(10) if i>4 and i<9]\n",
    "print(custome_list1)"
   ]
  },
  {
   "cell_type": "code",
   "execution_count": 11,
   "metadata": {},
   "outputs": [
    {
     "name": "stdout",
     "output_type": "stream",
     "text": [
      "0 0\n",
      "0 1\n",
      "0 2\n",
      "0 3\n",
      "0 4\n",
      "j is ended\n",
      "1 0\n",
      "1 1\n",
      "1 2\n",
      "1 3\n",
      "1 4\n",
      "j is ended\n",
      "2 0\n",
      "2 1\n",
      "2 2\n",
      "2 3\n",
      "2 4\n",
      "j is ended\n",
      "i is ended\n"
     ]
    }
   ],
   "source": [
    "for i in range(3):\n",
    "    for j in range(5):\n",
    "        print(i,j,sep=\" \")\n",
    "    print(\"j is ended\")\n",
    "print(\"i is ended\")"
   ]
  },
  {
   "cell_type": "code",
   "execution_count": 17,
   "metadata": {},
   "outputs": [
    {
     "data": {
      "text/plain": [
       "[[0, 1, 2, 3, 4], [0, 1, 2, 3, 4], [0, 1, 2, 3, 4]]"
      ]
     },
     "execution_count": 17,
     "metadata": {},
     "output_type": "execute_result"
    }
   ],
   "source": [
    "matrix=[]\n",
    "for i in range(3):\n",
    "    matrix.append([])\n",
    "    for j in range(5):\n",
    "        matrix[i].append(j)\n",
    "        \n",
    "\n",
    "matrix"
   ]
  }
 ],
 "metadata": {
  "kernelspec": {
   "display_name": "Python 3",
   "language": "python",
   "name": "python3"
  },
  "language_info": {
   "codemirror_mode": {
    "name": "ipython",
    "version": 3
   },
   "file_extension": ".py",
   "mimetype": "text/x-python",
   "name": "python",
   "nbconvert_exporter": "python",
   "pygments_lexer": "ipython3",
   "version": "3.9.13"
  },
  "orig_nbformat": 4
 },
 "nbformat": 4,
 "nbformat_minor": 2
}
