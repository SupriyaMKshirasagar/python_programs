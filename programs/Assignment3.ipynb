{
 "cells": [
  {
   "cell_type": "code",
   "execution_count": 7,
   "metadata": {},
   "outputs": [
    {
     "name": "stdout",
     "output_type": "stream",
     "text": [
      "p3 is elder 50\n"
     ]
    }
   ],
   "source": [
    "# Write a program to find the eldest among three persons age received from the user\n",
    "p1=int(input(\"enter the age of first person\"))\n",
    "p2=int(input(\"enter the age of second person\"))\n",
    "p3=int(input(\"enter the age of third person\"))\n",
    "if ((p1>p2) and (p1>p3)):\n",
    "    print(\"p1 is elder\",p1)\n",
    "elif((p2>p1) and (p2>p3)):\n",
    "    print(\"p2 is elder\",p2)\n",
    "else:\n",
    "    print(\"p3 is elder\",p3)\n",
    "    \n",
    "    \n",
    "    "
   ]
  },
  {
   "cell_type": "code",
   "execution_count": 12,
   "metadata": {},
   "outputs": [
    {
     "name": "stdout",
     "output_type": "stream",
     "text": [
      "Entered Number is Negative\n"
     ]
    }
   ],
   "source": [
    "#Write a program to check the number record from the user is positive or negative\n",
    "number=int(input(\"enter any number\"))\n",
    "if number>=0:\n",
    "    print(\"Entered Number is positive\")\n",
    "else:\n",
    "    print(\"Entered Number is Negative\")"
   ]
  },
  {
   "cell_type": "code",
   "execution_count": 20,
   "metadata": {},
   "outputs": [
    {
     "name": "stdout",
     "output_type": "stream",
     "text": [
      "Addition of two number's : 30.0\n",
      "Substraction of two number's is: -10.0\n",
      "Multiplication of two number's is: 200.0\n",
      "Division of two number's is: 0.5\n",
      "modulus of two number's is: 10.0\n"
     ]
    }
   ],
   "source": [
    "#Write a program to accept two numbers and mathemetical operator and perform operations accordingly\n",
    "a=float(input(\"enter first number\"))\n",
    "b=float(input(\"enter second number\"))\n",
    "print(\"Addition of two number's :\",a+b)\n",
    "print(\"Substraction of two number's is:\",a-b)\n",
    "print(\"Multiplication of two number's is:\",a*b)\n",
    "print(\"Division of two number's is:\",a/b)\n",
    "print(\"modulus of two number's is:\",a%b)"
   ]
  },
  {
   "cell_type": "code",
   "execution_count": 31,
   "metadata": {},
   "outputs": [
    {
     "name": "stdout",
     "output_type": "stream",
     "text": [
      "PASS\n"
     ]
    }
   ],
   "source": [
    "#Write a program if you have written an exam for a total score of 100 and if you score\n",
    "#is above or equal to 60 then you will be considered as PASS in the exam\n",
    "total=100\n",
    "marks=float(input(\"enter marks\"))\n",
    "if ((marks>=60) and (total>=marks)):\n",
    "    print(\"PASS\")\n",
    "    \n",
    "    "
   ]
  }
 ],
 "metadata": {
  "kernelspec": {
   "display_name": "Python 3",
   "language": "python",
   "name": "python3"
  },
  "language_info": {
   "codemirror_mode": {
    "name": "ipython",
    "version": 3
   },
   "file_extension": ".py",
   "mimetype": "text/x-python",
   "name": "python",
   "nbconvert_exporter": "python",
   "pygments_lexer": "ipython3",
   "version": "3.9.13"
  },
  "orig_nbformat": 4
 },
 "nbformat": 4,
 "nbformat_minor": 2
}
