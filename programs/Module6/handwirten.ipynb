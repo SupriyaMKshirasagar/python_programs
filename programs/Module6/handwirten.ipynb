{
 "cells": [
  {
   "cell_type": "code",
   "execution_count": 5,
   "metadata": {},
   "outputs": [
    {
     "name": "stdout",
     "output_type": "stream",
     "text": [
      "Epoch 1/5\n",
      "300/300 [==============================] - 56s 167ms/step - loss: 0.4898 - accuracy: 0.8417 - val_loss: 0.0797 - val_accuracy: 0.9743\n",
      "Epoch 2/5\n",
      "300/300 [==============================] - 52s 175ms/step - loss: 0.1533 - accuracy: 0.9528 - val_loss: 0.0499 - val_accuracy: 0.9835\n",
      "Epoch 3/5\n",
      "300/300 [==============================] - 41s 138ms/step - loss: 0.1167 - accuracy: 0.9645 - val_loss: 0.0398 - val_accuracy: 0.9868\n",
      "Epoch 4/5\n",
      "300/300 [==============================] - 28s 93ms/step - loss: 0.0984 - accuracy: 0.9710 - val_loss: 0.0335 - val_accuracy: 0.9885\n",
      "Epoch 5/5\n",
      "300/300 [==============================] - 29s 98ms/step - loss: 0.0876 - accuracy: 0.9734 - val_loss: 0.0331 - val_accuracy: 0.9891\n",
      "1/1 [==============================] - 0s 150ms/step\n",
      "Predicted Digit: 4\n"
     ]
    }
   ],
   "source": [
    "import numpy as np\n",
    "from keras.datasets import mnist\n",
    "from keras.models import Sequential\n",
    "from keras.layers import Dense, Dropout, Flatten\n",
    "from keras.optimizers import Adam\n",
    "from keras.utils import to_categorical\n",
    "from keras.layers import Conv2D, MaxPooling2D\n",
    "import cv2\n",
    "\n",
    "# Load and preprocess the MNIST dataset\n",
    "(X_train, y_train), (X_test, y_test) = mnist.load_data()\n",
    "X_train = X_train.reshape(X_train.shape[0], X_train.shape[1], X_train.shape[2], 1).astype('float32')\n",
    "X_test = X_test.reshape(X_test.shape[0], X_test.shape[1], X_test.shape[2], 1).astype('float32')\n",
    "X_train /= 255\n",
    "X_test /= 255\n",
    "\n",
    "number_of_classes = 10\n",
    "y_train = to_categorical(y_train, number_of_classes)\n",
    "y_test = to_categorical(y_test, number_of_classes)\n",
    "\n",
    "# Create the model\n",
    "model = Sequential()\n",
    "model.add(Conv2D(32, (5, 5), input_shape=(X_train.shape[1], X_train.shape[2], 1), activation='relu'))\n",
    "model.add(MaxPooling2D(pool_size=(2, 2)))\n",
    "model.add(Conv2D(32, (3, 3), activation='relu'))\n",
    "model.add(MaxPooling2D(pool_size=(2, 2)))\n",
    "model.add(Dropout(0.5))\n",
    "model.add(Flatten())\n",
    "model.add(Dense(128, activation='relu'))\n",
    "model.add(Dropout(0.5))\n",
    "model.add(Dense(number_of_classes, activation='softmax'))\n",
    "\n",
    "model.compile(loss='categorical_crossentropy', optimizer=Adam(), metrics=['accuracy'])\n",
    "model.fit(X_train, y_train, validation_data=(X_test, y_test), epochs=5, batch_size=200)\n",
    "\n",
    "# Load and preprocess the test image\n",
    "img = cv2.imread('D:/python_programs/programs/Module6/number4.png', cv2.IMREAD_GRAYSCALE)\n",
    "resized = cv2.resize(img, (28, 28), interpolation=cv2.INTER_AREA)\n",
    "img = np.resize(resized, (28, 28, 1))\n",
    "im2arr = np.array(img)\n",
    "im2arr = im2arr.reshape(1, 28, 28, 1)\n",
    "\n",
    "# Make predictions and get the digit output\n",
    "y_pred = model.predict(im2arr)\n",
    "digit = np.argmax(y_pred)\n",
    "\n",
    "print(\"Predicted Digit:\", digit)\n"
   ]
  }
 ],
 "metadata": {
  "kernelspec": {
   "display_name": "machine_learning",
   "language": "python",
   "name": "python3"
  },
  "language_info": {
   "codemirror_mode": {
    "name": "ipython",
    "version": 3
   },
   "file_extension": ".py",
   "mimetype": "text/x-python",
   "name": "python",
   "nbconvert_exporter": "python",
   "pygments_lexer": "ipython3",
   "version": "3.9.13"
  },
  "orig_nbformat": 4
 },
 "nbformat": 4,
 "nbformat_minor": 2
}
