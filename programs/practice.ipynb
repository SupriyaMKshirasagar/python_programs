{
 "cells": [
  {
   "cell_type": "code",
   "execution_count": 2,
   "metadata": {},
   "outputs": [
    {
     "name": "stdout",
     "output_type": "stream",
     "text": [
      "addition of  10 and 50 is 60\n"
     ]
    }
   ],
   "source": [
    "#1) Python program to Add two numbers\n",
    "num1=int(input(\"enter a number\"))\n",
    "num2=int(input(\"enter a number\"))\n",
    "sum=num1+num2\n",
    "print(\"addition of \",num1,\"and\",num2,\"is\",sum)"
   ]
  },
  {
   "cell_type": "code",
   "execution_count": 5,
   "metadata": {},
   "outputs": [
    {
     "name": "stdout",
     "output_type": "stream",
     "text": [
      "12.0\n"
     ]
    }
   ],
   "source": [
    "#2) Python program to find the square root\n",
    "import math\n",
    "def root_fun():\n",
    "    val=int(input(\"enter value\"))\n",
    "    result= math.sqrt(val)\n",
    "    return result\n",
    "\n",
    "SR=root_fun()\n",
    "print(SR)"
   ]
  },
  {
   "cell_type": "code",
   "execution_count": 7,
   "metadata": {},
   "outputs": [
    {
     "name": "stdout",
     "output_type": "stream",
     "text": [
      "Area of triangle is 5.0\n"
     ]
    }
   ],
   "source": [
    "#3) Python program to find area of triangle\n",
    "def areatri_fun():\n",
    "    base=float(input(\"'enter base\"))\n",
    "    height=float(input(\"enter height\"))\n",
    "    AT=0.5*base*height\n",
    "    print(\"Area of triangle is\",AT)\n",
    "\n",
    "areatri_fun()"
   ]
  },
  {
   "cell_type": "code",
   "execution_count": 8,
   "metadata": {},
   "outputs": [
    {
     "name": "stdout",
     "output_type": "stream",
     "text": [
      "2880.0\n"
     ]
    }
   ],
   "source": [
    "#4) Python program for simple interest\n",
    "def simple_interest():\n",
    "    p=int(input(\"enter a principal amount\"))\n",
    "    t=int(input(\"enter time\"))\n",
    "    r=int(input(\"enter a rate of interest\"))\n",
    "    SI=p*t*r/100\n",
    "    print(SI)\n",
    "    \n",
    "simple_interest()"
   ]
  },
  {
   "cell_type": "code",
   "execution_count": 9,
   "metadata": {},
   "outputs": [
    {
     "name": "stdout",
     "output_type": "stream",
     "text": [
      "48.72481199999993\n"
     ]
    }
   ],
   "source": [
    "#5) Python program for compound interest\n",
    "def compound_interest():\n",
    "    p=int(input(\"enter a principal amount\"))\n",
    "    t=int(input(\"enter a time\"))\n",
    "    r=int(input(\"enter rate of interest\"))\n",
    "    a=p*(1+(r/100))**t\n",
    "    CI=a-p\n",
    "    print(CI)\n",
    "    \n",
    "compound_interest()"
   ]
  },
  {
   "cell_type": "code",
   "execution_count": null,
   "metadata": {},
   "outputs": [],
   "source": [
    "import csv\n",
    "import datetime\n",
    "field=['date','id','customer_name','product_name','product_price','phone_number']\n",
    "rows=[['13-5-2023','101','huli','pen','100','9876543421'],\n",
    "      ['13-5-2023','101','huli','pen','100','9876543421'],\n",
    "      ['13-5-2023','101','huli','pen','100','9876543421'],\n",
    "      ['13-5-2023','101','huli','pen','100','9876543421'],\n",
    "      ['13-5-2023','101','huli','pen','100','9876543421']\n",
    "]\n",
    "\n",
    "filename='store_data.csv'\n",
    "\n",
    "with open(filename,'w')as record:\n",
    "    writer_object=csv.writer(record)\n",
    "    writer_object.writerow(field)\n",
    "    writer_object.writerows(rows)\n",
    "    \n",
    "    "
   ]
  }
 ],
 "metadata": {
  "kernelspec": {
   "display_name": "Python 3",
   "language": "python",
   "name": "python3"
  },
  "language_info": {
   "codemirror_mode": {
    "name": "ipython",
    "version": 3
   },
   "file_extension": ".py",
   "mimetype": "text/x-python",
   "name": "python",
   "nbconvert_exporter": "python",
   "pygments_lexer": "ipython3",
   "version": "3.9.13"
  },
  "orig_nbformat": 4
 },
 "nbformat": 4,
 "nbformat_minor": 2
}
