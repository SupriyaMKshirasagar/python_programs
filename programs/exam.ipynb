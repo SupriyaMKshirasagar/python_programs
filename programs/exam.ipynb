{
 "cells": [
  {
   "cell_type": "code",
   "execution_count": 3,
   "metadata": {},
   "outputs": [
    {
     "name": "stdout",
     "output_type": "stream",
     "text": [
      "[2, 4, 6, 8, 10]\n"
     ]
    }
   ],
   "source": [
    "import csv\n",
    "\n",
    "def get_even_numbers(csv_file):\n",
    "    even_number=[]\n",
    "    with open(csv_file,'r')as file:\n",
    "        reader=csv.reader(file)\n",
    "        for row in reader:\n",
    "            numbers=[int(num) for num in row]\n",
    "            even_number.extend([num for num in numbers if num%2==0])\n",
    "        \n",
    "    return even_number\n",
    "\n",
    "csv_file='numbers.csv'\n",
    "even_numbers=get_even_numbers(csv_file)\n",
    "print(even_numbers)"
   ]
  },
  {
   "cell_type": "code",
   "execution_count": 3,
   "metadata": {},
   "outputs": [
    {
     "name": "stdout",
     "output_type": "stream",
     "text": [
      "144000\n"
     ]
    }
   ],
   "source": [
    "#Write a python program and create a class named Employee with attributes name,position,and salary.Write a method to calculate the annual salary of the employee\n",
    "\n",
    "class Employee:\n",
    "    \n",
    "    Name=\" \"\n",
    "    Position=\" \"\n",
    "    Salary=\" \"\n",
    "    \n",
    "    monthly_sal=''\n",
    "    month=''\n",
    "    \n",
    "    def cal_sal_emp(self,monthly_sal,month):\n",
    "        annual_sal=monthly_sal*month\n",
    "        print(annual_sal)\n",
    "        \n",
    "    \n",
    "empobj=Employee()\n",
    "empobj.cal_sal_emp(12000,12)\n"
   ]
  },
  {
   "cell_type": "code",
   "execution_count": 10,
   "metadata": {},
   "outputs": [
    {
     "name": "stdout",
     "output_type": "stream",
     "text": [
      "[1, 25, 9, 4, 49, 81, 64]\n"
     ]
    }
   ],
   "source": [
    "#WRITE A PROGRAM THAT USES A LAMBDA EXPRESSION TO SQUARE EACH ELEMENT IN A LIST\n",
    "\n",
    "numbers=[1,5,3,2,7,9,8]\n",
    "\n",
    "sqaure_num=list(map(lambda x: x**2, numbers))\n",
    "print(sqaure_num)"
   ]
  },
  {
   "cell_type": "code",
   "execution_count": 8,
   "metadata": {},
   "outputs": [
    {
     "name": "stdout",
     "output_type": "stream",
     "text": [
      "welcome to txt fileThis is some new content.\n",
      "Happy CodingThis is some new content.\n",
      "\n",
      "This is some new content.\n",
      "\n"
     ]
    }
   ],
   "source": [
    "#Write a python program  that reads the textfile and print its content to the console and demonstrate append mode\n",
    "\n",
    "\n",
    "def read_file(file_path):\n",
    "    with open(file_path, 'r') as file:\n",
    "        content = file.read()\n",
    "        print(content)\n",
    "\n",
    "# Usage example\n",
    "file_path = 'example.txt'\n",
    "read_file(file_path)\n",
    "\n",
    "\n",
    "\n",
    "def append_to_file(file_path, content):\n",
    "    with open(file_path, 'a') as file:\n",
    "        file.write(content)\n",
    "\n",
    "# Usage example\n",
    "file_path = 'example.txt'\n",
    "new_content = '\\n  This is some new content.\\n'\n",
    "append_to_file(file_path, new_content)\n"
   ]
  }
 ],
 "metadata": {
  "kernelspec": {
   "display_name": "Python 3",
   "language": "python",
   "name": "python3"
  },
  "language_info": {
   "codemirror_mode": {
    "name": "ipython",
    "version": 3
   },
   "file_extension": ".py",
   "mimetype": "text/x-python",
   "name": "python",
   "nbconvert_exporter": "python",
   "pygments_lexer": "ipython3",
   "version": "3.9.13"
  },
  "orig_nbformat": 4
 },
 "nbformat": 4,
 "nbformat_minor": 2
}
