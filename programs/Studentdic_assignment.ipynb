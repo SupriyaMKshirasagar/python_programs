{
 "cells": [
  {
   "cell_type": "code",
   "execution_count": 1,
   "metadata": {},
   "outputs": [
    {
     "name": "stdout",
     "output_type": "stream",
     "text": [
      "   Roll_No Student_Name  Maths  Science  Total\n",
      "0      101        Sanju     88       89    177\n",
      "1      102        Geeta     99       76    175\n",
      "2      103      Krishna     77       88    165\n",
      "3      104        Radha     66       77    143\n",
      "4      105        Meera     89       99    188\n"
     ]
    }
   ],
   "source": [
    "import pandas as pd\n",
    "data={\"Roll_No\":[101,102,103,104,105],\n",
    "        \"Student_Name\":[\"Sanju\",\"Geeta\",\"Krishna\",\"Radha\",\"Meera\"],\n",
    "        \"Maths\":[88,99,77,66,89],\n",
    "        \"Science\":[89,76,88,77,99],\n",
    "        \"Total\":[177,175,165,143,188]}\n",
    "df=pd.DataFrame(data)\n",
    "print(df)\n",
    "\n"
   ]
  },
  {
   "cell_type": "code",
   "execution_count": 31,
   "metadata": {},
   "outputs": [
    {
     "name": "stdout",
     "output_type": "stream",
     "text": [
      "Roll_No           101\n",
      "Student_Name    Sanju\n",
      "Maths              88\n",
      "Science            89\n",
      "Total             177\n",
      "Name: 0, dtype: object\n"
     ]
    }
   ],
   "source": [
    "\n",
    "print(df.loc[0])"
   ]
  },
  {
   "cell_type": "code",
   "execution_count": 32,
   "metadata": {},
   "outputs": [
    {
     "name": "stdout",
     "output_type": "stream",
     "text": [
      "Roll_No           101\n",
      "Student_Name    Sanju\n",
      "Maths              88\n",
      "Science            89\n",
      "Total             177\n",
      "Name: 0, dtype: object\n",
      "Roll_No           102\n",
      "Student_Name    Geeta\n",
      "Maths              99\n",
      "Science            76\n",
      "Total             175\n",
      "Name: 1, dtype: object\n"
     ]
    }
   ],
   "source": [
    "print(df.loc[0])\n",
    "print(df.loc[1])"
   ]
  },
  {
   "cell_type": "code",
   "execution_count": 33,
   "metadata": {},
   "outputs": [
    {
     "name": "stdout",
     "output_type": "stream",
     "text": [
      "  Student_Name  Total\n",
      "0        Sanju    177\n",
      "1        Geeta    175\n",
      "2      Krishna    165\n",
      "3        Radha    143\n",
      "4        Meera    188\n"
     ]
    }
   ],
   "source": [
    "print(df[['Student_Name','Total']])"
   ]
  },
  {
   "cell_type": "code",
   "execution_count": 3,
   "metadata": {},
   "outputs": [
    {
     "name": "stdout",
     "output_type": "stream",
     "text": [
      "  Student_name  Roll_no  maths  science  Total\n",
      "0       vinaya      101     88       77    165\n",
      "1     Abhishek      102     77       84    161\n",
      "2       Harish      103     78       99    177\n",
      "3    Huligemma      104     75       87    162\n",
      "4      Supriya      105     76       78    154\n"
     ]
    }
   ],
   "source": [
    "import pandas as pd\n",
    "df=pd.read_csv('std_dic.csv')\n",
    "print(df.to_string())\n"
   ]
  }
 ],
 "metadata": {
  "kernelspec": {
   "display_name": "base",
   "language": "python",
   "name": "python3"
  },
  "language_info": {
   "codemirror_mode": {
    "name": "ipython",
    "version": 3
   },
   "file_extension": ".py",
   "mimetype": "text/x-python",
   "name": "python",
   "nbconvert_exporter": "python",
   "pygments_lexer": "ipython3",
   "version": "3.9.13"
  },
  "orig_nbformat": 4
 },
 "nbformat": 4,
 "nbformat_minor": 2
}
