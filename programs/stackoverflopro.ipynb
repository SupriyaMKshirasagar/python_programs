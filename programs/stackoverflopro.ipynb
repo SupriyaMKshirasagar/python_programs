{
 "cells": [
  {
   "cell_type": "code",
   "execution_count": 1,
   "metadata": {},
   "outputs": [
    {
     "name": "stdout",
     "output_type": "stream",
     "text": [
      "[23, 43, 47, 44, 49, 36, 11, 37, 50, 18]\n"
     ]
    }
   ],
   "source": [
    "#Python program to generate random numbers\n",
    "import random\n",
    "rand_list=[]\n",
    "for i in range(0,10):\n",
    "    n=random.randint(1,50)\n",
    "    rand_list.append(n)\n",
    "print(rand_list)"
   ]
  }
 ],
 "metadata": {
  "kernelspec": {
   "display_name": "Python 3",
   "language": "python",
   "name": "python3"
  },
  "language_info": {
   "codemirror_mode": {
    "name": "ipython",
    "version": 3
   },
   "file_extension": ".py",
   "mimetype": "text/x-python",
   "name": "python",
   "nbconvert_exporter": "python",
   "pygments_lexer": "ipython3",
   "version": "3.9.13"
  },
  "orig_nbformat": 4
 },
 "nbformat": 4,
 "nbformat_minor": 2
}
