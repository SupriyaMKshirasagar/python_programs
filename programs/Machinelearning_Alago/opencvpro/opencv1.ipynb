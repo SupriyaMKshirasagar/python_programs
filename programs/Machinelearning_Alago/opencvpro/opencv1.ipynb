{
 "cells": [
  {
   "cell_type": "code",
   "execution_count": 5,
   "metadata": {},
   "outputs": [
    {
     "ename": "",
     "evalue": "",
     "output_type": "error",
     "traceback": [
      "\u001b[1;31mThe Kernel crashed while executing code in the the current cell or a previous cell. Please review the code in the cell(s) to identify a possible cause of the failure. Click <a href='https://aka.ms/vscodeJupyterKernelCrash'>here</a> for more info. View Jupyter <a href='command:jupyter.viewOutput'>log</a> for further details."
     ]
    }
   ],
   "source": [
    "# Creating database\n",
    "# It captures images and stores them in datasets\n",
    "# folder under the folder name of sub_data\n",
    "import cv2, sys, numpy, os\n",
    "haar_file = 'haarcascade_frontalface_default.xml'\n",
    "\n",
    "# All the faces data will be\n",
    "# present this folder\n",
    "datasets = 'datasets'\n",
    "\n",
    "\n",
    "# These are sub data sets of folder,\n",
    "# for my faces I've used my name you can\n",
    "# change the label here\n",
    "sub_data = 'supriya'\t\n",
    "\n",
    "path = os.path.join(datasets, sub_data)\n",
    "if not os.path.isdir(path):\n",
    "\tos.mkdir(path)\n",
    "\n",
    "# defining the size of images\n",
    "(width, height) = (130, 100)\t\n",
    "\n",
    "#'0' is used for my webcam,\n",
    "# if you've any other camera\n",
    "# attached use '1' like this\n",
    "face_cascade = cv2.CascadeClassifier(haar_file)\n",
    "webcam = cv2.VideoCapture(0)\n",
    "\n",
    "# The program loops until it has 30 images of the face.\n",
    "count = 1\n",
    "while count < 30:\n",
    "\t(_, im) = webcam.read()\n",
    "\tgray = cv2.cvtColor(im, cv2.COLOR_BGR2GRAY)\n",
    "\tfaces = face_cascade.detectMultiScale(gray, 1.3, 4)\n",
    "\tfor (x, y, w, h) in faces:\n",
    "\t\tcv2.rectangle(im, (x, y), (x + w, y + h), (255, 0, 0), 2)\n",
    "\t\tface = gray[y:y + h, x:x + w]\n",
    "\t\tface_resize = cv2.resize(face, (width, height))\n",
    "\t\tcv2.imwrite('% s/% s.png' % (path, count), face_resize)\n",
    "\tcount += 1\n",
    "\t\n",
    "\tcv2.imshow('OpenCV', im)\n",
    "\tkey = cv2.waitKey(10)\n",
    "\tif key == 27:\n",
    "\t\tbreak\n"
   ]
  },
  {
   "cell_type": "code",
   "execution_count": 2,
   "metadata": {},
   "outputs": [
    {
     "name": "stdout",
     "output_type": "stream",
     "text": [
      "Recognizing Face Please Be in sufficient Lights...\n"
     ]
    },
    {
     "ename": "AttributeError",
     "evalue": "module 'cv2' has no attribute 'face'",
     "output_type": "error",
     "traceback": [
      "\u001b[1;31m---------------------------------------------------------------------------\u001b[0m",
      "\u001b[1;31mAttributeError\u001b[0m                            Traceback (most recent call last)",
      "\u001b[1;32m~\\AppData\\Local\\Temp\\ipykernel_12260\\3608397809.py\u001b[0m in \u001b[0;36m<module>\u001b[1;34m\u001b[0m\n\u001b[0;32m     27\u001b[0m \u001b[1;31m# OpenCV trains a model from the images\u001b[0m\u001b[1;33m\u001b[0m\u001b[1;33m\u001b[0m\u001b[0m\n\u001b[0;32m     28\u001b[0m \u001b[1;31m# NOTE FOR OpenCV2: remove '.face'\u001b[0m\u001b[1;33m\u001b[0m\u001b[1;33m\u001b[0m\u001b[0m\n\u001b[1;32m---> 29\u001b[1;33m \u001b[0mmodel\u001b[0m \u001b[1;33m=\u001b[0m \u001b[0mcv2\u001b[0m\u001b[1;33m.\u001b[0m\u001b[0mface\u001b[0m\u001b[1;33m.\u001b[0m\u001b[0mLBPHFaceRecognizer_create\u001b[0m\u001b[1;33m(\u001b[0m\u001b[1;33m)\u001b[0m\u001b[1;33m\u001b[0m\u001b[1;33m\u001b[0m\u001b[0m\n\u001b[0m\u001b[0;32m     30\u001b[0m \u001b[0mmodel\u001b[0m\u001b[1;33m.\u001b[0m\u001b[0mtrain\u001b[0m\u001b[1;33m(\u001b[0m\u001b[0mimages\u001b[0m\u001b[1;33m,\u001b[0m \u001b[0mlabels\u001b[0m\u001b[1;33m)\u001b[0m\u001b[1;33m\u001b[0m\u001b[1;33m\u001b[0m\u001b[0m\n\u001b[0;32m     31\u001b[0m \u001b[1;33m\u001b[0m\u001b[0m\n",
      "\u001b[1;31mAttributeError\u001b[0m: module 'cv2' has no attribute 'face'"
     ]
    }
   ],
   "source": [
    "# It helps in identifying the faces\n",
    "import cv2, sys, numpy, os\n",
    "size = 4\n",
    "haar_file = 'haarcascade_frontalface_default.xml'\n",
    "datasets = 'datasets'\n",
    "\n",
    "# Part 1: Create fisherRecognizer\n",
    "print('Recognizing Face Please Be in sufficient Lights...')\n",
    "\n",
    "# Create a list of images and a list of corresponding names\n",
    "(images, labels, names, id) = ([], [], {}, 0)\n",
    "for (subdirs, dirs, files) in os.walk(datasets):\n",
    "\tfor subdir in dirs:\n",
    "\t\tnames[id] = subdir\n",
    "\t\tsubjectpath = os.path.join(datasets, subdir)\n",
    "\t\tfor filename in os.listdir(subjectpath):\n",
    "\t\t\tpath = subjectpath + '/' + filename\n",
    "\t\t\tlabel = id\n",
    "\t\t\timages.append(cv2.imread(path, 0))\n",
    "\t\t\tlabels.append(int(label))\n",
    "\t\tid += 1\n",
    "(width, height) = (130, 100)\n",
    "\n",
    "# Create a Numpy array from the two lists above\n",
    "(images, labels) = [numpy.array(lis) for lis in [images, labels]]\n",
    "\n",
    "# OpenCV trains a model from the images\n",
    "# NOTE FOR OpenCV2: remove '.face'\n",
    "model = cv2.face.LBPHFaceRecognizer_create()\n",
    "model.train(images, labels)\n",
    "\n",
    "# Part 2: Use fisherRecognizer on camera stream\n",
    "face_cascade = cv2.CascadeClassifier(haar_file)\n",
    "webcam = cv2.VideoCapture(0)\n",
    "while True:\n",
    "\t(_, im) = webcam.read()\n",
    "\tgray = cv2.cvtColor(im, cv2.COLOR_BGR2GRAY)\n",
    "\tfaces = face_cascade.detectMultiScale(gray, 1.3, 5)\n",
    "\tfor (x, y, w, h) in faces:\n",
    "\t\tcv2.rectangle(im, (x, y), (x + w, y + h), (255, 0, 0), 2)\n",
    "\t\tface = gray[y:y + h, x:x + w]\n",
    "\t\tface_resize = cv2.resize(face, (width, height))\n",
    "\t\t# Try to recognize the face\n",
    "\t\tprediction = model.predict(face_resize)\n",
    "\t\tcv2.rectangle(im, (x, y), (x + w, y + h), (0, 255, 0), 3)\n",
    "\n",
    "\t\tif prediction[1]<500:\n",
    "\n",
    "\t\t    cv2.putText(im, '% s - %.0f' %\n",
    "(names[prediction[0]], prediction[1]), (x-10, y-10),\n",
    "cv2.FONT_HERSHEY_PLAIN, 1, (0, 255, 0))\n",
    "\t\telse:\n",
    "\t\t    cv2.putText(im, 'not recognized',\n",
    "(x-10, y-10), cv2.FONT_HERSHEY_PLAIN, 1, (0, 255, 0))\n",
    "\n",
    "\tcv2.imshow('OpenCV', im)\n",
    "\t\n",
    "\tkey = cv2.waitKey(10)\n",
    "\tif key == 27:\n",
    "\t\tbreak\n"
   ]
  }
 ],
 "metadata": {
  "kernelspec": {
   "display_name": "base",
   "language": "python",
   "name": "python3"
  },
  "language_info": {
   "codemirror_mode": {
    "name": "ipython",
    "version": 3
   },
   "file_extension": ".py",
   "mimetype": "text/x-python",
   "name": "python",
   "nbconvert_exporter": "python",
   "pygments_lexer": "ipython3",
   "version": "3.9.13"
  },
  "orig_nbformat": 4
 },
 "nbformat": 4,
 "nbformat_minor": 2
}
