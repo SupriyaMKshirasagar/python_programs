{
 "cells": [
  {
   "cell_type": "code",
   "execution_count": 4,
   "metadata": {},
   "outputs": [
    {
     "name": "stdout",
     "output_type": "stream",
     "text": [
      "Mean: 90.375\n",
      "Mode: ModeResult(mode=array([92]), count=array([2]))\n",
      "Median: 91.0\n",
      "Standard Deviation: 3.276335605520289\n",
      "Variance: 10.734375\n"
     ]
    },
    {
     "name": "stderr",
     "output_type": "stream",
     "text": [
      "C:\\Users\\USER\\AppData\\Local\\Temp\\ipykernel_14164\\2642020879.py:7: FutureWarning: Unlike other reduction functions (e.g. `skew`, `kurtosis`), the default behavior of `mode` typically preserves the axis it acts along. In SciPy 1.11.0, this behavior will change: the default value of `keepdims` will become False, the `axis` over which the statistic is taken will be eliminated, and the value None will no longer be accepted. Set `keepdims` to True or False to avoid this warning.\n",
      "  mode=stats.mode(scores)\n"
     ]
    }
   ],
   "source": [
    "import numpy as np\n",
    "from scipy import stats\n",
    "\n",
    "scores=np.array([85,90,92,88,95,87,94,92])\n",
    "mean=np.mean(scores)\n",
    "median=np.median(scores)\n",
    "mode=stats.mode(scores)\n",
    "std_dev=np.std(scores)\n",
    "variance=np.var(scores)\n",
    "print(\"Mean:\",mean)\n",
    "print(\"Mode:\",mode)\n",
    "print(\"Median:\",median)\n",
    "print(\"Standard Deviation:\",std_dev)\n",
    "print(\"Variance:\",variance)"
   ]
  },
  {
   "cell_type": "code",
   "execution_count": 5,
   "metadata": {},
   "outputs": [
    {
     "name": "stdout",
     "output_type": "stream",
     "text": [
      "Array: [ 8  7  1  5 10]\n",
      "mean: 6.2\n",
      "Standard Devition: 3.059411708155671\n",
      "Sum: 31\n"
     ]
    }
   ],
   "source": [
    "import numpy as np\n",
    "low=1\n",
    "high=10\n",
    "size=5\n",
    "arr=np.random.randint(low,high+1,size)\n",
    "mean=np.mean(arr)\n",
    "std_dev=np.std(arr)\n",
    "sum_arr=np.sum(arr)\n",
    "print(\"Array:\",arr)\n",
    "print(\"mean:\",mean)\n",
    "print(\"Standard Devition:\",std_dev)\n",
    "print(\"Sum:\",sum_arr)"
   ]
  },
  {
   "cell_type": "code",
   "execution_count": 7,
   "metadata": {},
   "outputs": [
    {
     "name": "stdout",
     "output_type": "stream",
     "text": [
      "                  Salary        Age\n",
      "Department                         \n",
      "FINANCE     11000.000000  22.500000\n",
      "HR           9000.000000  23.333333\n",
      "IT           9333.333333  23.000000\n"
     ]
    }
   ],
   "source": [
    "import pandas as pd\n",
    "data={'EmployeeID':[1,2,3,4,5,6,7,8],\n",
    "      'Name':['Vinaya','Harish','Anju','Abhishek','Huligemma','Jeevan','Priyanka','Supriya'],\n",
    "      'Department':['HR','IT','IT','HR','FINANCE','FINANCE','HR','IT'],\n",
    "      'Salary':[5000,6000,7000,8000,10000,12000,14000,15000],\n",
    "      'Age':[23,24,22,24,23,22,23,23]}\n",
    "df=pd.DataFrame(data)\n",
    "grouped_df=df.groupby('Department').agg({'Salary':'mean','Age':'mean'})\n",
    "print(grouped_df)"
   ]
  },
  {
   "cell_type": "code",
   "execution_count": 9,
   "metadata": {},
   "outputs": [
    {
     "name": "stdout",
     "output_type": "stream",
     "text": [
      "BMI Score: 19579.92168031328\n",
      "Height Status: Obese\n"
     ]
    }
   ],
   "source": [
    "import numpy as np\n",
    "def calculate_bmi(height,weight):\n",
    "    height_m=height/100\n",
    "    bmi=weight/(height_m**2)\n",
    "    return bmi\n",
    "\n",
    "def get_height_status(bmi):\n",
    "    if bmi<18.5:\n",
    "        return \"Underweight\"\n",
    "    elif bmi<25:\n",
    "        return \"Normal Weight\"\n",
    "    elif bmi<30:\n",
    "        return \"Overweight\"\n",
    "    else:\n",
    "        return \"Obese\"\n",
    "\n",
    "height=float(input(\"Enter the height in centimeters:\"))\n",
    "weight=float(input(\"Enter the weight in kilograms:\"))\n",
    "bmi_score=calculate_bmi(height,weight)\n",
    "print(\"BMI Score:\",bmi_score)\n",
    "print(\"Height Status:\",get_height_status(bmi_score))"
   ]
  }
 ],
 "metadata": {
  "kernelspec": {
   "display_name": "base",
   "language": "python",
   "name": "python3"
  },
  "language_info": {
   "codemirror_mode": {
    "name": "ipython",
    "version": 3
   },
   "file_extension": ".py",
   "mimetype": "text/x-python",
   "name": "python",
   "nbconvert_exporter": "python",
   "pygments_lexer": "ipython3",
   "version": "3.9.13"
  },
  "orig_nbformat": 4
 },
 "nbformat": 4,
 "nbformat_minor": 2
}
