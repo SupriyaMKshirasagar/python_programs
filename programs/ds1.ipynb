{
 "cells": [
  {
   "cell_type": "code",
   "execution_count": 13,
   "metadata": {},
   "outputs": [
    {
     "name": "stdout",
     "output_type": "stream",
     "text": [
      "Algeria\n",
      "Angola\n",
      "Benin\n",
      "Botswana\n",
      "Burkina Faso\n",
      "Burundi\n",
      "Cabo Verde\n",
      "Cameroon\n",
      "Central African Republic\n",
      "Chad\n",
      "Comoros\n",
      "Congo (Brazzaville)\n",
      "Congo (Kinshasa)\n",
      "Cote d'Ivoire\n",
      "Equatorial Guinea\n",
      "Eritrea\n",
      "Eswatini\n",
      "Ethiopia\n",
      "Gabon\n",
      "Gambia\n",
      "Ghana\n",
      "Guinea\n",
      "Guinea-Bissau\n",
      "Kenya\n",
      "Lesotho\n",
      "Liberia\n",
      "Madagascar\n",
      "Malawi\n",
      "Mali\n",
      "Mauritania\n",
      "Mauritius\n",
      "Mozambique\n",
      "Namibia\n",
      "Niger\n",
      "Nigeria\n",
      "Rwanda\n",
      "Sao Tome and Principe\n",
      "Senegal\n",
      "Seychelles\n",
      "Sierra Leone\n",
      "South Africa\n",
      "South Sudan\n",
      "Tanzania\n",
      "Togo\n",
      "Uganda\n",
      "Western Sahara\n",
      "Zambia\n",
      "Zimbabwe\n"
     ]
    }
   ],
   "source": [
    "import csv\n",
    "\n",
    "with open(\"D:/python_programs/Dataset/covid.csv\",\"r\") as file_object:\n",
    "    data=csv.reader(file_object)\n",
    "    \n",
    "    for excel_row in data:\n",
    "        if excel_row[14]==\"Africa\":\n",
    "            print(excel_row[0])    "
   ]
  }
 ],
 "metadata": {
  "kernelspec": {
   "display_name": "Python 3",
   "language": "python",
   "name": "python3"
  },
  "language_info": {
   "codemirror_mode": {
    "name": "ipython",
    "version": 3
   },
   "file_extension": ".py",
   "mimetype": "text/x-python",
   "name": "python",
   "nbconvert_exporter": "python",
   "pygments_lexer": "ipython3",
   "version": "3.9.13"
  },
  "orig_nbformat": 4
 },
 "nbformat": 4,
 "nbformat_minor": 2
}
