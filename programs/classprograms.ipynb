{
 "cells": [
  {
   "attachments": {},
   "cell_type": "markdown",
   "metadata": {},
   "source": [
    "OOPS CONCEPT"
   ]
  },
  {
   "cell_type": "code",
   "execution_count": 4,
   "metadata": {},
   "outputs": [
    {
     "name": "stdout",
     "output_type": "stream",
     "text": [
      "ON: True\n",
      "OFF: False\n",
      "True\n"
     ]
    }
   ],
   "source": [
    "class Blub:\n",
    "    #Attributes\n",
    "    ON=False\n",
    "    OFF=True\n",
    "    #Metods\n",
    "    def status(self):\n",
    "        print(\"ON:\",self.OFF)\n",
    "        print(\"OFF:\",self.ON)\n",
    "    \n",
    "obj=Blub()\n",
    "obj.status()\n",
    "print(obj.OFF)\n",
    "\n",
    "        "
   ]
  },
  {
   "cell_type": "code",
   "execution_count": 7,
   "metadata": {},
   "outputs": [
    {
     "name": "stdout",
     "output_type": "stream",
     "text": [
      "Enter five student marks\n",
      "33\n",
      "22\n",
      "11\n",
      "44\n",
      "55\n"
     ]
    }
   ],
   "source": [
    "#5 subject read and print\n",
    "n=[]\n",
    "print(\"Enter five student marks\")\n",
    "for i in range(5):\n",
    "    n.insert(i,int(input()))\n",
    "    print(n[i])"
   ]
  },
  {
   "cell_type": "code",
   "execution_count": null,
   "metadata": {},
   "outputs": [],
   "source": [
    "class Car:\n",
    "    wheels=4\n",
    "    seatingcapacity=\"\"\n",
    "    carModel=\"\"\n",
    "    Fueltype=\"\"\n",
    "    CC=\"\"\n",
    "    \n",
    "    def __init__(self,wheels,seatingcapacity,carModel,Fueltype,CC):\n",
    "        self.wheels=wheels\n",
    "        self.seatingcapacity=seatingcapacity\n",
    "        self.carModel=carModel\n",
    "        self.Fueltype=Fueltype\n",
    "        self.CC=CC\n",
    "        \n",
    "    def Cardetails():\n",
    "        print(\"CAR DET:\",wheels,seatingcapacity,carModel)\n",
    "        "
   ]
  }
 ],
 "metadata": {
  "kernelspec": {
   "display_name": "Python 3",
   "language": "python",
   "name": "python3"
  },
  "language_info": {
   "codemirror_mode": {
    "name": "ipython",
    "version": 3
   },
   "file_extension": ".py",
   "mimetype": "text/x-python",
   "name": "python",
   "nbconvert_exporter": "python",
   "pygments_lexer": "ipython3",
   "version": "3.9.13"
  },
  "orig_nbformat": 4
 },
 "nbformat": 4,
 "nbformat_minor": 2
}
