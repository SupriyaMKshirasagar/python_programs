{
 "cells": [
  {
   "cell_type": "code",
   "execution_count": 1,
   "metadata": {},
   "outputs": [
    {
     "name": "stdout",
     "output_type": "stream",
     "text": [
      "{'pooja': 401, 'huligemma': 420, 'harish': 444, 'vinaya': 123}\n"
     ]
    }
   ],
   "source": [
    "name=[\"pooja\",\"huligemma\",\"harish\",\"vinaya\"]\n",
    "roll_no=[401,420,444,123]\n",
    "mapped=zip(name,roll_no)\n",
    "print(dict(mapped))"
   ]
  },
  {
   "cell_type": "code",
   "execution_count": 1,
   "metadata": {},
   "outputs": [
    {
     "name": "stdout",
     "output_type": "stream",
     "text": [
      "[[0, 1, 2, 3, 4], [0, 1, 2, 3, 4], [0, 1, 2, 3, 4]]\n"
     ]
    }
   ],
   "source": [
    "matrix=[]\n",
    "for i in range(3):\n",
    "    matrix.append([])\n",
    "    for j in range(5):\n",
    "        matrix[i].append(j)\n",
    "print(matrix)\n",
    "    "
   ]
  },
  {
   "cell_type": "code",
   "execution_count": 5,
   "metadata": {},
   "outputs": [
    {
     "name": "stdout",
     "output_type": "stream",
     "text": [
      "[[0, 1, 2, 3, 4, 5, 6, 7, 8, 9, 10, 11, 12, 13, 14, 15], [0, 1, 2, 3, 4, 5, 6, 7, 8, 9, 10, 11, 12, 13, 14, 15], [0, 1, 2, 3, 4, 5, 6, 7, 8, 9, 10, 11, 12, 13, 14, 15], [0, 1, 2, 3, 4, 5, 6, 7, 8, 9, 10, 11, 12, 13, 14, 15], [0, 1, 2, 3, 4, 5, 6, 7, 8, 9, 10, 11, 12, 13, 14, 15], [0, 1, 2, 3, 4, 5, 6, 7, 8, 9, 10, 11, 12, 13, 14, 15], [0, 1, 2, 3, 4, 5, 6, 7, 8, 9, 10, 11, 12, 13, 14, 15], [0, 1, 2, 3, 4, 5, 6, 7, 8, 9, 10, 11, 12, 13, 14, 15], [0, 1, 2, 3, 4, 5, 6, 7, 8, 9, 10, 11, 12, 13, 14, 15], [0, 1, 2, 3, 4, 5, 6, 7, 8, 9, 10, 11, 12, 13, 14, 15], [0, 1, 2, 3, 4, 5, 6, 7, 8, 9, 10, 11, 12, 13, 14, 15], [0, 1, 2, 3, 4, 5, 6, 7, 8, 9, 10, 11, 12, 13, 14, 15], [0, 1, 2, 3, 4, 5, 6, 7, 8, 9, 10, 11, 12, 13, 14, 15], [0, 1, 2, 3, 4, 5, 6, 7, 8, 9, 10, 11, 12, 13, 14, 15], [0, 1, 2, 3, 4, 5, 6, 7, 8, 9, 10, 11, 12, 13, 14, 15], [0, 1, 2, 3, 4, 5, 6, 7, 8, 9, 10, 11, 12, 13, 14, 15]]\n"
     ]
    }
   ],
   "source": [
    "matrix=[]\n",
    "for i in range(16):\n",
    "    matrix.append([])\n",
    "    for j in range(16):\n",
    "        2*j+1\n",
    "        matrix[i].append(j)\n",
    "print(matrix)\n",
    "    "
   ]
  },
  {
   "cell_type": "code",
   "execution_count": 6,
   "metadata": {},
   "outputs": [
    {
     "name": "stdout",
     "output_type": "stream",
     "text": [
      "['apple', 'banana', 'orange', 'mango']\n"
     ]
    }
   ],
   "source": [
    "fruits=['apple','banana','orange','mango','muskmelon']\n",
    "list_com=[x for x in fruits if 'a'in x]\n",
    "print(list_com)"
   ]
  },
  {
   "cell_type": "code",
   "execution_count": 15,
   "metadata": {},
   "outputs": [
    {
     "name": "stdout",
     "output_type": "stream",
     "text": [
      "['apple', 'banana', 'orange', 'mango']\n"
     ]
    }
   ],
   "source": [
    "fruits=['apple','banana','orange','mango','muskmelon']\n",
    "list_com=[]\n",
    "for x in fruits:\n",
    "    if 'a' in x:\n",
    "        list_com.append(x)\n",
    "print(list_com)"
   ]
  },
  {
   "cell_type": "code",
   "execution_count": 1,
   "metadata": {},
   "outputs": [
    {
     "name": "stdout",
     "output_type": "stream",
     "text": [
      "152 bytes\n",
      "88 bytes\n"
     ]
    }
   ],
   "source": [
    "import sys\n",
    "list_a=[1,2,3,4,5,6]\n",
    "set_a=(1,\"hello\",3,4,5,6)\n",
    "print(sys.getsizeof(list_a),\"bytes\")\n",
    "print(sys.getsizeof(set_a),\"bytes\")\n"
   ]
  },
  {
   "cell_type": "code",
   "execution_count": 8,
   "metadata": {},
   "outputs": [
    {
     "name": "stdout",
     "output_type": "stream",
     "text": [
      "{1, 2, 4, 5, -3}\n",
      "{1, 2, 4, 5, 'p', -3, 'hello'}\n"
     ]
    }
   ],
   "source": [
    "#creating a set\n",
    "people={1,2,-3,4,5}\n",
    "print(people)\n",
    "people.add(\"hello\")\n",
    "people.add(\"p\")\n",
    "print(people)"
   ]
  },
  {
   "cell_type": "code",
   "execution_count": 12,
   "metadata": {},
   "outputs": [
    {
     "name": "stdout",
     "output_type": "stream",
     "text": [
      "{'anand', 'archii', 'roopa', 'pooja', 'karan', 'omkar', 'arjun'}\n",
      "\n",
      " union using | operator\n",
      "{'anand', 'roopa', 'pooja', 'deepansh', 'raju', 'omkar', 'arjun'}\n"
     ]
    }
   ],
   "source": [
    "#program on set using union method\n",
    "\n",
    "people={'arjun','pooja','roopa','omkar','anand'}\n",
    "vampires={'karan','archii'}\n",
    "dracula={'deepansh','raju'}\n",
    "\n",
    "population=people.union(vampires)\n",
    "print(population)\n",
    "\n",
    "population=people|dracula\n",
    "print(\"\\n union using | operator\")\n",
    "print(population)"
   ]
  },
  {
   "cell_type": "code",
   "execution_count": 23,
   "metadata": {},
   "outputs": [
    {
     "name": "stdout",
     "output_type": "stream",
     "text": [
      "{3, 4}\n",
      "Intersection using '&' operator\n",
      "{3, 4}\n"
     ]
    }
   ],
   "source": [
    "#program on set using Intersection method\n",
    "\n",
    "set1=set()\n",
    "set2=set()\n",
    "for i in range(5):\n",
    "    set1.add(i)\n",
    "    \n",
    "for j in range(3,9):\n",
    "    set2.add(j)\n",
    "\n",
    "set3 = set1.intersection(set2)\n",
    "print(set3)\n",
    "\n",
    "set3=set1 & set2\n",
    "print(\"Intersection using '&' operator\")\n",
    "print(set3)"
   ]
  },
  {
   "cell_type": "code",
   "execution_count": 28,
   "metadata": {},
   "outputs": [
    {
     "name": "stdout",
     "output_type": "stream",
     "text": [
      "{0, 1, 2}\n",
      "{8, 5, 6, 7}\n",
      "difference using '-' operator\n",
      "{0, 1, 2}\n"
     ]
    }
   ],
   "source": [
    "set1=set()\n",
    "set2=set()\n",
    "for i in range(5):\n",
    "    set1.add(i)\n",
    "    \n",
    "for j in range(3,9):\n",
    "    set2.add(j)\n",
    "\n",
    "set3 = set1.difference(set2)\n",
    "print(set3)\n",
    "set3 = set2.difference(set1)\n",
    "print(set3)\n",
    "set3=set1 - set2\n",
    "print(\"difference using '-' operator\")\n",
    "print(set3)"
   ]
  },
  {
   "cell_type": "code",
   "execution_count": 31,
   "metadata": {},
   "outputs": [
    {
     "name": "stdout",
     "output_type": "stream",
     "text": [
      "{1, 2, 3, 4, 5}\n",
      "set()\n"
     ]
    }
   ],
   "source": [
    "#clearing the set\n",
    "set1={1,2,3,4,5}\n",
    "print(set1)\n",
    "set1.clear()\n",
    "print(set1)"
   ]
  }
 ],
 "metadata": {
  "kernelspec": {
   "display_name": "Python 3",
   "language": "python",
   "name": "python3"
  },
  "language_info": {
   "codemirror_mode": {
    "name": "ipython",
    "version": 3
   },
   "file_extension": ".py",
   "mimetype": "text/x-python",
   "name": "python",
   "nbconvert_exporter": "python",
   "pygments_lexer": "ipython3",
   "version": "3.9.13"
  },
  "orig_nbformat": 4
 },
 "nbformat": 4,
 "nbformat_minor": 2
}
