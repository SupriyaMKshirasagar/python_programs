{
 "cells": [
  {
   "cell_type": "code",
   "execution_count": 1,
   "metadata": {},
   "outputs": [
    {
     "name": "stdout",
     "output_type": "stream",
     "text": [
      "{'pooja': 401, 'huligemma': 420, 'harish': 444, 'vinaya': 123}\n"
     ]
    }
   ],
   "source": [
    "name=[\"pooja\",\"huligemma\",\"harish\",\"vinaya\"]\n",
    "roll_no=[401,420,444,123]\n",
    "mapped=zip(name,roll_no)\n",
    "print(dict(mapped))"
   ]
  }
 ],
 "metadata": {
  "kernelspec": {
   "display_name": "Python 3",
   "language": "python",
   "name": "python3"
  },
  "language_info": {
   "codemirror_mode": {
    "name": "ipython",
    "version": 3
   },
   "file_extension": ".py",
   "mimetype": "text/x-python",
   "name": "python",
   "nbconvert_exporter": "python",
   "pygments_lexer": "ipython3",
   "version": "3.9.13"
  },
  "orig_nbformat": 4
 },
 "nbformat": 4,
 "nbformat_minor": 2
}
