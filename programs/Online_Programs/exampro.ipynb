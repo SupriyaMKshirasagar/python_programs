{
 "cells": [
  {
   "cell_type": "code",
   "execution_count": 1,
   "metadata": {},
   "outputs": [
    {
     "name": "stdout",
     "output_type": "stream",
     "text": [
      "Reversed string: olleh\n"
     ]
    }
   ],
   "source": [
    "def reverse_string(input_string):\n",
    "    # Convert the input string into an array of characters\n",
    "    char_array = list(input_string)\n",
    "\n",
    "    # Get the length of the arrayh\n",
    "    length = len(char_array)\n",
    "\n",
    "    # Swap characters from the beginning and end of the array\n",
    "    for i in range(length // 2):\n",
    "        char_array[i], char_array[length - i - 1] = char_array[length - i - 1], char_array[i]\n",
    "\n",
    "    # Join the characters back into a string\n",
    "    reversed_string = ''.join(char_array)\n",
    "    return reversed_string\n",
    "\n",
    "# Test the function\n",
    "input_string = input(\"Enter a string: \")\n",
    "reversed_string = reverse_string(input_string)\n",
    "print(\"Reversed string:\", reversed_string)\n"
   ]
  },
  {
   "cell_type": "code",
   "execution_count": 5,
   "metadata": {},
   "outputs": [
    {
     "name": "stdout",
     "output_type": "stream",
     "text": [
      "olleh\n"
     ]
    }
   ],
   "source": [
    "def reversed_string(input_str):\n",
    "    char_array=list(input_str)\n",
    "    lenght=len(char_array)\n",
    "    for i in range(lenght//2):\n",
    "        char_array[i],char_array[lenght-i-1]=char_array[lenght-i-1],char_array[i]\n",
    "    reverse_string=''.join(char_array)\n",
    "    return reverse_string\n",
    "\n",
    "\n",
    "input_str=input(\"enter a string\")\n",
    "reverse_str=reversed_string(input_str)\n",
    "print(reverse_str)"
   ]
  },
  {
   "cell_type": "code",
   "execution_count": 7,
   "metadata": {},
   "outputs": [
    {
     "name": "stdout",
     "output_type": "stream",
     "text": [
      "olleh\n"
     ]
    }
   ],
   "source": [
    "def reverse_str(input_str):\n",
    "    char_arry=list(input_str)\n",
    "    lenght=len(char_arry)\n",
    "    for i in range(lenght//2):\n",
    "        char_arry[i],char_arry[lenght-i-1]=char_arry[lenght-i-1],char_arry[i]\n",
    "    reversed_str=''.join(char_arry)\n",
    "    return reversed_str\n",
    "\n",
    "input_str=input(\"Enter string\")\n",
    "rev_str=reverse_str(input_str)\n",
    "print(rev_str)\n",
    "        "
   ]
  },
  {
   "cell_type": "code",
   "execution_count": null,
   "metadata": {},
   "outputs": [],
   "source": [
    "def print_pyramid(rows):\n",
    "    for i in range(rows):\n",
    "        # Print leading spaces\n",
    "        print(\" \" * (rows - i - 1), end=\"\")\n",
    "        \n",
    "        # Print stars for the current row\n",
    "        print(\"*\" * (2 * i + 1))\n",
    "        \n",
    "# Test the function\n",
    "num_rows = int(input(\"Enter the number of rows for the pyramid: \"))\n",
    "print_pyramid(num_rows)\n"
   ]
  },
  {
   "cell_type": "code",
   "execution_count": null,
   "metadata": {},
   "outputs": [
    {
     "name": "stdout",
     "output_type": "stream",
     "text": [
      "      \n",
      "     *\n",
      "    ***\n",
      "   *****\n",
      "  *******\n",
      " *********\n",
      "***********\n"
     ]
    }
   ],
   "source": [
    "n=int(input(\"enter number of rows\"))\n",
    "for i in range(n):\n",
    "    print( \" \" * (n-i-1),end=\"\")\n",
    "    print(\"*\" *(2*i))\n",
    "    "
   ]
  },
  {
   "cell_type": "code",
   "execution_count": 4,
   "metadata": {},
   "outputs": [
    {
     "name": "stdout",
     "output_type": "stream",
     "text": [
      "Before reverse your number is  123\n",
      "After reverse : 321\n"
     ]
    }
   ],
   "source": [
    "n = int(input(\"Please give a number: \"))\n",
    "print(\"Before reverse your number is \", n)\n",
    "reverse = 0\n",
    "while n!=0:\n",
    "    reverse = reverse*10 + n%10       \n",
    "    n = (n//10)\n",
    "print(\"After reverse :\",reverse) "
   ]
  },
  {
   "cell_type": "code",
   "execution_count": 32,
   "metadata": {},
   "outputs": [
    {
     "name": "stdout",
     "output_type": "stream",
     "text": [
      "Before reversing a number 123\n",
      "After reversing a number 321\n",
      "Number is not a palindrome\n"
     ]
    }
   ],
   "source": [
    "#Python program to reverse a number\n",
    "n=int(input(\"Enter a number\"))\n",
    "print(\"Before reversing a number\",n)\n",
    "reverse,temp=0,n\n",
    "while temp!=0:\n",
    "    reverse=reverse*10 + temp%10\n",
    "    temp=temp//10\n",
    "print(\"After reversing a number\",reverse)\n",
    "if reverse==n:\n",
    "    print(\"Number is a  palindrome\")\n",
    "else:\n",
    "    print(\"Number is not a palindrome\")\n",
    "    "
   ]
  },
  {
   "cell_type": "code",
   "execution_count": 13,
   "metadata": {},
   "outputs": [
    {
     "name": "stdout",
     "output_type": "stream",
     "text": [
      "8  is not a prime number\n"
     ]
    }
   ],
   "source": [
    "#Prime number\n",
    "\n",
    "n=int(input(\"Enter a number\"))\n",
    "i,temp=0,0\n",
    "for i in range(2,n//2):\n",
    "    if n%i==0:\n",
    "        temp=1\n",
    "        break\n",
    "if temp==1:\n",
    "    print(n,\" is not a prime number\")\n",
    "else:\n",
    "    print(n,\" is a prime number\")"
   ]
  },
  {
   "cell_type": "code",
   "execution_count": 15,
   "metadata": {},
   "outputs": [
    {
     "name": "stdout",
     "output_type": "stream",
     "text": [
      "Fibonacci Series:\n",
      "0\n",
      "1\n",
      "1\n",
      "2\n",
      "3\n",
      "5\n",
      "8\n",
      "13\n",
      "21\n",
      "34\n"
     ]
    }
   ],
   "source": [
    "#fibonacci series\n",
    "n=int(input(\"Enter a number\"))\n",
    "first,second=0,1\n",
    "print(\"Fibonacci Series:\")\n",
    "for i in range(0,n):\n",
    "    if i<=1:\n",
    "        result=i\n",
    "    else:\n",
    "        result=first+second\n",
    "        first=second\n",
    "        second=result\n",
    "        \n",
    "    print(result)\n",
    "    "
   ]
  },
  {
   "cell_type": "code",
   "execution_count": 17,
   "metadata": {},
   "outputs": [
    {
     "name": "stdout",
     "output_type": "stream",
     "text": [
      "Given 153 is a armstrong number\n"
     ]
    }
   ],
   "source": [
    "#Armstrong number\n",
    "num=int(input(\"Enter number\"))\n",
    "sum=0\n",
    "temp=num\n",
    "count=len(str(num))\n",
    "while temp>0:\n",
    "    digits=temp%10\n",
    "    sum=sum+digits ** count\n",
    "    temp=temp//10\n",
    "if num == sum:\n",
    "    print(\"Given\",num,\"is a armstrong number\")\n",
    "else:\n",
    "    print(\"Given\",num,\"is not a armstrong number\")"
   ]
  },
  {
   "cell_type": "code",
   "execution_count": null,
   "metadata": {},
   "outputs": [],
   "source": [
    "#Palindrome\n",
    "n=int(input(\"Enter a number\"))\n",
    "reverse,temp=0,n\n",
    "while temp!=0:\n",
    "    reverse"
   ]
  },
  {
   "cell_type": "code",
   "execution_count": 36,
   "metadata": {},
   "outputs": [
    {
     "name": "stdout",
     "output_type": "stream",
     "text": [
      "24\n"
     ]
    }
   ],
   "source": [
    "def fact(n):\n",
    "    if n==1:\n",
    "        return n\n",
    "    else:\n",
    "        return n*fact(n-1)\n",
    "    \n",
    "n=int(input(\"enter a number\"))\n",
    "print(fact(n))\n"
   ]
  },
  {
   "cell_type": "code",
   "execution_count": 37,
   "metadata": {},
   "outputs": [
    {
     "name": "stdout",
     "output_type": "stream",
     "text": [
      "12\n"
     ]
    }
   ],
   "source": [
    "#GCD\n",
    "import math\n",
    "gcd1=int(input(\"enter a number\"))\n",
    "gcd2=int(input(\"enter number\"))\n",
    "print(math.gcd(gcd1,gcd2))"
   ]
  },
  {
   "cell_type": "code",
   "execution_count": 43,
   "metadata": {},
   "outputs": [
    {
     "name": "stdout",
     "output_type": "stream",
     "text": [
      "<function gcd at 0x0000022CBBB3AE50>\n"
     ]
    }
   ],
   "source": [
    "#GCD\n",
    "def gcd(a,b):\n",
    "    if b==0:\n",
    "        return a\n",
    "    else:\n",
    "        return gcd(b,a%b)\n",
    "\n",
    "a=int(input(\"enter a number\"))\n",
    "b=int(input(\"enter a number\"))\n",
    "print(gcd)"
   ]
  },
  {
   "cell_type": "code",
   "execution_count": 44,
   "metadata": {},
   "outputs": [
    {
     "name": "stdout",
     "output_type": "stream",
     "text": [
      "dlrow olleH\n"
     ]
    }
   ],
   "source": [
    "#Reversing String\n",
    "txt=\"Hello world\"[::-1]\n",
    "print(txt)"
   ]
  },
  {
   "cell_type": "code",
   "execution_count": 3,
   "metadata": {},
   "outputs": [
    {
     "name": "stdout",
     "output_type": "stream",
     "text": [
      " $\n",
      "\n",
      " $ $\n",
      "\n",
      " $ $ $\n",
      "\n"
     ]
    }
   ],
   "source": [
    "row=int(input(\"enter number of rows\"))\n",
    "for i in range(row):\n",
    "    for j in range(i+1):\n",
    "        print(\" $\",end=\"\")\n",
    "    print(\"\\n\")\n",
    "        "
   ]
  }
 ],
 "metadata": {
  "kernelspec": {
   "display_name": "base",
   "language": "python",
   "name": "python3"
  },
  "language_info": {
   "codemirror_mode": {
    "name": "ipython",
    "version": 3
   },
   "file_extension": ".py",
   "mimetype": "text/x-python",
   "name": "python",
   "nbconvert_exporter": "python",
   "pygments_lexer": "ipython3",
   "version": "3.9.13"
  },
  "orig_nbformat": 4
 },
 "nbformat": 4,
 "nbformat_minor": 2
}
