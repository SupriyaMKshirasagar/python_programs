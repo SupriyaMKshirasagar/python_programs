{
 "cells": [
  {
   "attachments": {},
   "cell_type": "markdown",
   "metadata": {},
   "source": [
    "Program on Set()"
   ]
  },
  {
   "cell_type": "code",
   "execution_count": 2,
   "metadata": {},
   "outputs": [
    {
     "name": "stdout",
     "output_type": "stream",
     "text": [
      "{'c', 'b', 'a'}\n",
      "{'d', 'c', 'b', 'a'}\n"
     ]
    }
   ],
   "source": [
    "#typecasting list to set\n",
    "myset=set([\"a\",\"b\",\"c\"])\n",
    "print(myset)\n",
    "\n",
    "#set takes only one argument\n",
    "myset.add(\"d\")\n",
    "print(myset)"
   ]
  },
  {
   "cell_type": "code",
   "execution_count": 3,
   "metadata": {},
   "outputs": [
    {
     "name": "stdout",
     "output_type": "stream",
     "text": [
      "{'welcome', 'python', 'to', 'world'}\n"
     ]
    }
   ],
   "source": [
    "#A set can not have the duplicate value\n",
    "myset={\"python\",\"welcome\",\"to\",\"world\",\"python\"}\n",
    "print(myset)"
   ]
  },
  {
   "cell_type": "code",
   "execution_count": 5,
   "metadata": {},
   "outputs": [
    {
     "name": "stdout",
     "output_type": "stream",
     "text": [
      "{False, 1, 2.3, 3, 'DAD', 8, 'MOM'}\n"
     ]
    }
   ],
   "source": [
    "#set can store different types of elements\n",
    "myset={\"MOM\",\"DAD\",8,1,3,2.3,False}\n",
    "print(myset)"
   ]
  },
  {
   "cell_type": "code",
   "execution_count": 8,
   "metadata": {},
   "outputs": [
    {
     "name": "stdout",
     "output_type": "stream",
     "text": [
      "friends: {'vinaya', 'Harish', 'Huligemma'}\n",
      "\n",
      " Set afetr adding element: {'vinaya', 1, 2, 3, 4, 5, 'Huligemma', 'Harish', 'pooja'}\n"
     ]
    }
   ],
   "source": [
    "#Adding elements in set\n",
    "friends={'Huligemma','Harish','vinaya'}\n",
    "print('friends:',end=\" \")\n",
    "print(friends)\n",
    "friends.add(\"pooja\")\n",
    "for i in range(1,6):\n",
    "    friends.add(i)\n",
    "print(\"\\n Set afetr adding element:\",end=\" \")\n",
    "print(friends)"
   ]
  },
  {
   "cell_type": "code",
   "execution_count": null,
   "metadata": {},
   "outputs": [],
   "source": []
  }
 ],
 "metadata": {
  "kernelspec": {
   "display_name": "Python 3",
   "language": "python",
   "name": "python3"
  },
  "language_info": {
   "codemirror_mode": {
    "name": "ipython",
    "version": 3
   },
   "file_extension": ".py",
   "mimetype": "text/x-python",
   "name": "python",
   "nbconvert_exporter": "python",
   "pygments_lexer": "ipython3",
   "version": "3.9.13"
  },
  "orig_nbformat": 4
 },
 "nbformat": 4,
 "nbformat_minor": 2
}
